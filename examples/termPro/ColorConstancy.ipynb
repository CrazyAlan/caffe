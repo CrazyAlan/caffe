{
 "cells": [
  {
   "cell_type": "code",
   "execution_count": 1,
   "metadata": {
    "collapsed": false
   },
   "outputs": [],
   "source": [
    "import os\n",
    "os.chdir('../../')\n",
    "import sys\n",
    "sys.path.insert(0, './python')\n",
    "sys.path.append('/local-scratch/xca64/tmp/caffe-master/python/myFunc')\n",
    "import caffe\n",
    "import numpy as np\n",
    "from pylab import *\n",
    "%matplotlib inline"
   ]
  },
  {
   "cell_type": "code",
   "execution_count": 2,
   "metadata": {
    "collapsed": false
   },
   "outputs": [],
   "source": [
    "niter = 200\n",
    "# losses will also be stored in the log\n",
    "train_loss = np.zeros(niter)\n",
    "scratch_train_loss = np.zeros(niter)\n",
    "\n",
    "caffe.set_device(0)\n",
    "caffe.set_mode_gpu()"
   ]
  },
  {
   "cell_type": "code",
   "execution_count": 37,
   "metadata": {
    "collapsed": false
   },
   "outputs": [],
   "source": [
    "solver = caffe.SGDSolver('models/color_constancy/solver.prototxt')\n",
    "solver.net.copy_from('models/bvlc_reference_caffenet/bvlc_reference_caffenet.caffemodel')"
   ]
  },
  {
   "cell_type": "code",
   "execution_count": 26,
   "metadata": {
    "collapsed": false
   },
   "outputs": [],
   "source": [
    "import tempfile"
   ]
  },
  {
   "cell_type": "code",
   "execution_count": 31,
   "metadata": {
    "collapsed": false
   },
   "outputs": [],
   "source": [
    "def run_solver(solver, niter, disp_interval):\n",
    "    blobs = ('loss', 'acc')\n",
    "    loss, acc = (np.zeros(niter), np.zeros(niter))\n",
    "    for it in range(niter):\n",
    "        solver.step(1)  # run a single SGD step in Caffe\n",
    "        loss[it] = (solver.net.blobs['loss'].data.copy())\n",
    "        acc[it] = 0#(solver.net.blobs['loss_ang'].data.copy())\n",
    "        if it % disp_interval == 0 or it + 1 == niter:\n",
    "            loss_disp = 'loss: %.3f'%loss[it]\n",
    "            print '%3d) %s Angular Erro %.3f' % (it, loss_disp, acc[it])     \n",
    "            #print(solver.net.blobs['fc8_flickr'].data[1], solver.net.blobs['illu'].data[1])\n",
    "    # Save the learned weights from both nets.\n",
    "    weight_dir = tempfile.mkdtemp()\n",
    "    name = 'firstTry'\n",
    "    weights = {}\n",
    "    filename = 'weights.%s.caffemodel' % name\n",
    "    \n",
    "    weights[name] = os.path.join(weight_dir, filename)\n",
    "    solver.net.save(weights[name])\n",
    "    \n",
    "    return loss, acc, weights"
   ]
  },
  {
   "cell_type": "code",
   "execution_count": 38,
   "metadata": {
    "collapsed": false
   },
   "outputs": [
    {
     "name": "stdout",
     "output_type": "stream",
     "text": [
      "  0) loss: 45.797 Angular Erro 0.000\n",
      " 10) loss: 14.247 Angular Erro 0.000\n",
      " 20) loss: 10.157 Angular Erro 0.000\n",
      " 30) loss: 7.536 Angular Erro 0.000\n",
      " 40) loss: 7.600 Angular Erro 0.000\n",
      " 50) loss: 6.920 Angular Erro 0.000\n",
      " 60) loss: 6.690 Angular Erro 0.000\n",
      " 70) loss: 6.781 Angular Erro 0.000\n",
      " 80) loss: 5.732 Angular Erro 0.000\n",
      " 90) loss: 6.745 Angular Erro 0.000\n",
      "100) loss: 6.561 Angular Erro 0.000\n",
      "110) loss: 7.540 Angular Erro 0.000\n",
      "120) loss: 6.053 Angular Erro 0.000\n",
      "130) loss: 5.353 Angular Erro 0.000\n",
      "140) loss: 4.901 Angular Erro 0.000\n",
      "150) loss: 5.053 Angular Erro 0.000\n",
      "160) loss: 5.369 Angular Erro 0.000\n",
      "170) loss: 4.482 Angular Erro 0.000\n",
      "180) loss: 17.305 Angular Erro 0.000\n",
      "190) loss: 20.603 Angular Erro 0.000\n",
      "200) loss: 12.281 Angular Erro 0.000\n",
      "210) loss: 15.472 Angular Erro 0.000\n",
      "220) loss: 15.167 Angular Erro 0.000\n",
      "230) loss: 8.961 Angular Erro 0.000\n",
      "240) loss: 6.130 Angular Erro 0.000\n",
      "250) loss: 13.526 Angular Erro 0.000\n",
      "260) loss: 16.074 Angular Erro 0.000\n",
      "270) loss: 11.363 Angular Erro 0.000\n",
      "280) loss: 4.507 Angular Erro 0.000\n",
      "290) loss: 4.177 Angular Erro 0.000\n",
      "300) loss: 3.469 Angular Erro 0.000\n",
      "310) loss: 4.081 Angular Erro 0.000\n",
      "320) loss: 4.030 Angular Erro 0.000\n",
      "330) loss: 3.779 Angular Erro 0.000\n",
      "340) loss: 25.328 Angular Erro 0.000\n",
      "350) loss: 27.172 Angular Erro 0.000\n",
      "360) loss: 4.206 Angular Erro 0.000\n",
      "370) loss: 4.773 Angular Erro 0.000\n",
      "380) loss: 14.723 Angular Erro 0.000\n",
      "390) loss: 8.026 Angular Erro 0.000\n",
      "400) loss: 5.284 Angular Erro 0.000\n",
      "410) loss: 4.137 Angular Erro 0.000\n",
      "420) loss: 3.890 Angular Erro 0.000\n",
      "430) loss: 3.453 Angular Erro 0.000\n",
      "440) loss: 4.075 Angular Erro 0.000\n",
      "450) loss: 3.874 Angular Erro 0.000\n",
      "460) loss: 3.463 Angular Erro 0.000\n",
      "470) loss: 5.567 Angular Erro 0.000\n",
      "480) loss: 2.983 Angular Erro 0.000\n",
      "490) loss: 4.454 Angular Erro 0.000\n",
      "500) loss: 5.964 Angular Erro 0.000\n",
      "510) loss: 16.973 Angular Erro 0.000\n",
      "520) loss: 3.318 Angular Erro 0.000\n",
      "530) loss: 3.865 Angular Erro 0.000\n",
      "540) loss: 3.849 Angular Erro 0.000\n",
      "550) loss: 3.080 Angular Erro 0.000\n",
      "560) loss: 3.303 Angular Erro 0.000\n",
      "570) loss: 11.946 Angular Erro 0.000\n",
      "580) loss: 21.631 Angular Erro 0.000\n",
      "590) loss: 5.473 Angular Erro 0.000\n",
      "600) loss: 14.318 Angular Erro 0.000\n",
      "610) loss: 5.993 Angular Erro 0.000\n",
      "620) loss: 4.194 Angular Erro 0.000\n",
      "630) loss: 7.131 Angular Erro 0.000\n",
      "640) loss: 8.603 Angular Erro 0.000\n",
      "650) loss: 13.745 Angular Erro 0.000\n",
      "660) loss: 11.410 Angular Erro 0.000\n",
      "670) loss: 5.744 Angular Erro 0.000\n",
      "680) loss: 3.371 Angular Erro 0.000\n",
      "690) loss: 3.155 Angular Erro 0.000\n",
      "700) loss: 3.025 Angular Erro 0.000\n",
      "710) loss: 3.261 Angular Erro 0.000\n",
      "720) loss: 2.781 Angular Erro 0.000\n",
      "730) loss: 3.369 Angular Erro 0.000\n",
      "740) loss: 6.589 Angular Erro 0.000\n",
      "750) loss: 6.103 Angular Erro 0.000\n",
      "760) loss: 15.526 Angular Erro 0.000\n",
      "770) loss: 10.287 Angular Erro 0.000\n",
      "780) loss: 3.832 Angular Erro 0.000\n",
      "790) loss: 4.001 Angular Erro 0.000\n",
      "800) loss: 4.534 Angular Erro 0.000\n",
      "810) loss: 4.307 Angular Erro 0.000\n",
      "820) loss: 4.356 Angular Erro 0.000\n",
      "830) loss: nan Angular Erro 0.000\n",
      "840) loss: nan Angular Erro 0.000\n",
      "850) loss: nan Angular Erro 0.000\n",
      "860) loss: nan Angular Erro 0.000\n",
      "870) loss: nan Angular Erro 0.000\n",
      "880) loss: nan Angular Erro 0.000\n",
      "890) loss: nan Angular Erro 0.000\n",
      "900) loss: nan Angular Erro 0.000\n",
      "910) loss: nan Angular Erro 0.000\n",
      "920) loss: nan Angular Erro 0.000\n",
      "930) loss: nan Angular Erro 0.000\n",
      "940) loss: nan Angular Erro 0.000\n",
      "950) loss: nan Angular Erro 0.000\n",
      "960) loss: nan Angular Erro 0.000\n",
      "970) loss: nan Angular Erro 0.000\n",
      "980) loss: nan Angular Erro 0.000\n",
      "990) loss: nan Angular Erro 0.000\n",
      "999) loss: nan Angular Erro 0.000\n"
     ]
    }
   ],
   "source": [
    "loss_1, acc_1, weights_1 = run_solver(solver, 1000,10)"
   ]
  },
  {
   "cell_type": "code",
   "execution_count": null,
   "metadata": {
    "collapsed": false
   },
   "outputs": [],
   "source": [
    "print [solver.net.blobs['fc8_flickr'].data, solver.net.blobs['illu'].data]\n"
   ]
  },
  {
   "cell_type": "code",
   "execution_count": null,
   "metadata": {
    "collapsed": true
   },
   "outputs": [],
   "source": [
    "solver = caffe.SGDSolver('models/color_constancy/solver.prototxt')\n",
    "solver.net.copy_from('models/bvlc_reference_caffenet/bvlc_reference_caffenet.caffemodel')"
   ]
  },
  {
   "cell_type": "code",
   "execution_count": null,
   "metadata": {
    "collapsed": true
   },
   "outputs": [],
   "source": []
  },
  {
   "cell_type": "code",
   "execution_count": null,
   "metadata": {
    "collapsed": true
   },
   "outputs": [],
   "source": [
    "solver.step(1)  # SGD by Caffe"
   ]
  },
  {
   "cell_type": "code",
   "execution_count": null,
   "metadata": {
    "collapsed": true
   },
   "outputs": [],
   "source": [
    "import matplotlib.pyplot as plt\n",
    "import matplotlib.image as mpimg\n"
   ]
  },
  {
   "cell_type": "code",
   "execution_count": null,
   "metadata": {
    "collapsed": false
   },
   "outputs": [],
   "source": [
    "def deprocess_net_image(image, gamma):\n",
    "    image = image.copy()              # don't modify destructively\n",
    "    image = image[::-1]               # BGR -> RGB\n",
    "    image = image.transpose(1, 2, 0)  # CHW -> HWC\n",
    "    image += [123, 117, 104]          # (approximately) undo mean subtraction\n",
    "\n",
    "    # clamp values in [0, 255]\n",
    "    image[image < 0], image[image > 255] = 0, 255\n",
    "    \n",
    "    image = image.astype(np.float32)\n",
    "    image = image/255\n",
    "    image = image**gamma #Gamma correction\n",
    "    image = image*255\n",
    "\n",
    "    # round and cast from float32 to uint8\n",
    "    image = np.round(image)\n",
    "    image = np.require(image, dtype=np.uint8)\n",
    "\n",
    "    return image\n"
   ]
  },
  {
   "cell_type": "code",
   "execution_count": null,
   "metadata": {
    "collapsed": true
   },
   "outputs": [],
   "source": [
    "def my_deprocess_net_image(image, gamma):\n",
    "    image = image.copy()              # don't modify destructively\n",
    "    image = image[::-1]               # BGR -> RGB\n",
    "    image = image.transpose(1, 2, 0)  # CHW -> HWC\n",
    "    #image += [123, 117, 104]          # (approximately) undo mean subtraction\n",
    "\n",
    "    # clamp values in [0, 255]\n",
    "    image[image < 0], image[image > 255] = 0, 255\n",
    "    \n",
    "    image = image.astype(np.float32)\n",
    "    image = image/255\n",
    "    image = image**gamma #Gamma correction\n",
    "    image = image*255\n",
    "\n",
    "    # round and cast from float32 to uint8\n",
    "    image = np.round(image)\n",
    "    image = np.require(image, dtype=np.uint8)\n",
    "\n",
    "    return image"
   ]
  },
  {
   "cell_type": "code",
   "execution_count": null,
   "metadata": {
    "collapsed": false
   },
   "outputs": [],
   "source": [
    "for i in range(5):\n",
    "    img = my_deprocess_net_image(solver.net.blobs['data'].data[i+20], 0.5)\n",
    "    plt.imshow(img)\n",
    "    plt.figure(i+1)"
   ]
  },
  {
   "cell_type": "code",
   "execution_count": null,
   "metadata": {
    "collapsed": false
   },
   "outputs": [],
   "source": [
    "label = solver.net.blobs['illu'].data[20]\n",
    "print label\n",
    "print np.max(solver.net.blobs['data'].data[20])"
   ]
  },
  {
   "cell_type": "code",
   "execution_count": null,
   "metadata": {
    "collapsed": false
   },
   "outputs": [],
   "source": []
  },
  {
   "cell_type": "code",
   "execution_count": null,
   "metadata": {
    "collapsed": false
   },
   "outputs": [],
   "source": [
    "\n"
   ]
  },
  {
   "cell_type": "code",
   "execution_count": null,
   "metadata": {
    "collapsed": true
   },
   "outputs": [],
   "source": [
    "# We run the solver for niter times, and record the training loss.\n",
    "for it in range(niter):\n",
    "    solver.step(1)  # SGD by Caffe\n",
    "    # store the train loss\n",
    "    train_loss[it] = solver.net.blobs['loss'].data\n",
    "    if it % 10 == 0:\n",
    "        print 'iter %d, finetune_loss=%f, scratch_loss=' % (it, train_loss[it])\n",
    "print 'done'"
   ]
  }
 ],
 "metadata": {
  "kernelspec": {
   "display_name": "Python 2",
   "language": "python",
   "name": "python2"
  },
  "language_info": {
   "codemirror_mode": {
    "name": "ipython",
    "version": 2
   },
   "file_extension": ".py",
   "mimetype": "text/x-python",
   "name": "python",
   "nbconvert_exporter": "python",
   "pygments_lexer": "ipython2",
   "version": "2.7.10"
  }
 },
 "nbformat": 4,
 "nbformat_minor": 0
}
