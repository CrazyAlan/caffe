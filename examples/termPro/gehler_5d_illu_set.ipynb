{
 "cells": [
  {
   "cell_type": "markdown",
   "metadata": {},
   "source": [
    "##Read Image"
   ]
  },
  {
   "cell_type": "code",
   "execution_count": null,
   "metadata": {
    "collapsed": false
   },
   "outputs": [],
   "source": [
    "import h5py\n",
    "import numpy as np"
   ]
  },
  {
   "cell_type": "code",
   "execution_count": null,
   "metadata": {
    "collapsed": true
   },
   "outputs": [],
   "source": [
    "fname = \"/home/xca64/remote/GitHub/colorP/dataSet/geler/Gehler_Extras/Illuminants.txt\"\n",
    "with open(fname) as f:\n",
    "    content = f.readlines()"
   ]
  },
  {
   "cell_type": "code",
   "execution_count": null,
   "metadata": {
    "collapsed": false
   },
   "outputs": [],
   "source": [
    "print (content[1][:-3]).split(',')"
   ]
  },
  {
   "cell_type": "code",
   "execution_count": null,
   "metadata": {
    "collapsed": false
   },
   "outputs": [],
   "source": [
    "illu = np.zeros([len(content)/3,3])\n",
    "for i in range(len(content)/3):\n",
    "    illu[i, :] = np.array([float(x) for x in ((content[i*3+1][:-3]).split(','))])\n"
   ]
  },
  {
   "cell_type": "code",
   "execution_count": null,
   "metadata": {
    "collapsed": false
   },
   "outputs": [],
   "source": [
    "print len(illu)\n",
    "print np.shape(illu[:50,:])"
   ]
  },
  {
   "cell_type": "markdown",
   "metadata": {},
   "source": [
    "#Save data to h5"
   ]
  },
  {
   "cell_type": "code",
   "execution_count": null,
   "metadata": {
    "collapsed": false
   },
   "outputs": [],
   "source": [
    "illu = illu[:50,:]\n",
    "with h5py.File('/home/xca64/remote/data/illu_gehler_50.h5') as h:\n",
    "    h['illu'] = illu"
   ]
  },
  {
   "cell_type": "markdown",
   "metadata": {},
   "source": [
    "#Save FileName"
   ]
  },
  {
   "cell_type": "code",
   "execution_count": null,
   "metadata": {
    "collapsed": false
   },
   "outputs": [],
   "source": [
    "print \"/home/xca64/remote/data/\"+content[0]"
   ]
  },
  {
   "cell_type": "code",
   "execution_count": null,
   "metadata": {
    "collapsed": false
   },
   "outputs": [],
   "source": [
    "with open('/home/xca64/remote/data/train_gehler_50.txt','w') as f:\n",
    "    for i in range(50):\n",
    "        f.write( '/home/xca64/remote/GitHub/colorP/dataSet/geler/source/'+content[i*3][:-2] + ' 0 \\n')"
   ]
  },
  {
   "cell_type": "code",
   "execution_count": 30,
   "metadata": {
    "collapsed": false
   },
   "outputs": [
    {
     "name": "stdout",
     "output_type": "stream",
     "text": [
      "[[ 0.0483994  0.0427776  0.0404933]\n",
      " [ 0.0406068  0.0364151  0.035649 ]\n",
      " [ 0.1531402  0.1356553  0.1286482]\n",
      " [ 0.1292548  0.1173989  0.1107552]\n",
      " [ 0.1236585  0.1087753  0.1015189]\n",
      " [ 0.0664755  0.0592282  0.0546045]\n",
      " [ 0.0947137  0.0823927  0.0733981]\n",
      " [ 0.132211   0.1183176  0.1075993]\n",
      " [ 0.0393706  0.0339711  0.0312228]\n",
      " [ 0.0327561  0.0289142  0.0276223]\n",
      " [ 0.0848609  0.072155   0.0624354]\n",
      " [ 0.0765817  0.0654978  0.0562368]\n",
      " [ 0.0553069  0.0492734  0.0464582]\n",
      " [ 0.1152329  0.1045922  0.09878  ]\n",
      " [ 0.0745489  0.0619331  0.0548576]\n",
      " [ 0.0362815  0.0297022  0.0239729]\n",
      " [ 0.0727918  0.066176   0.063148 ]\n",
      " [ 0.0473708  0.042198   0.0394276]\n",
      " [ 0.0815719  0.0710234  0.0644596]\n",
      " [ 0.115931   0.1019348  0.0924003]\n",
      " [ 0.1197433  0.1055204  0.0945449]\n",
      " [ 0.0496322  0.0440014  0.0403473]\n",
      " [ 0.0898297  0.0791961  0.0724874]\n",
      " [ 0.0738529  0.0668713  0.0634783]\n",
      " [ 0.0911424  0.0802126  0.0733525]\n",
      " [ 0.1814054  0.160593   0.1464693]\n",
      " [ 0.2288796  0.2027446  0.1838481]\n",
      " [ 0.0737138  0.0625222  0.0569231]\n",
      " [ 0.3867147  0.3423107  0.3156931]\n",
      " [ 0.0700503  0.0611474  0.0566696]\n",
      " [ 0.079724   0.0698912  0.0627691]\n",
      " [ 0.09658    0.084207   0.0775878]\n",
      " [ 0.0381052  0.0338343  0.0314889]\n",
      " [ 0.1078963  0.0953935  0.0876356]\n",
      " [ 0.102223   0.0882883  0.0779824]\n",
      " [ 0.1145321  0.1047144  0.086502 ]\n",
      " [ 0.1848881  0.1586708  0.1209639]\n",
      " [ 0.0674954  0.0596587  0.0560374]\n",
      " [ 0.0316788  0.0280935  0.0264337]\n",
      " [ 0.0194328  0.0168113  0.0149482]\n",
      " [ 0.0508214  0.0446722  0.0403746]\n",
      " [ 0.1243348  0.1098487  0.1002489]\n",
      " [ 0.1305317  0.1186199  0.1120421]\n",
      " [ 0.0555288  0.0503101  0.047874 ]\n",
      " [ 0.0989273  0.0895205  0.0847052]\n",
      " [ 0.1590407  0.1428459  0.1329777]\n",
      " [ 0.0906916  0.0826332  0.0766442]\n",
      " [ 0.0899159  0.0804399  0.074898 ]\n",
      " [ 0.3929127  0.3530181  0.3339368]\n",
      " [ 0.172385   0.1440318  0.1236979]]\n"
     ]
    }
   ],
   "source": [
    "with h5py.File('/home/xca64/remote/data/illu_gehler_50.h5') as h:\n",
    "    print h['illu'][()]"
   ]
  },
  {
   "cell_type": "code",
   "execution_count": null,
   "metadata": {
    "collapsed": true
   },
   "outputs": [],
   "source": []
  }
 ],
 "metadata": {
  "kernelspec": {
   "display_name": "Python 2",
   "language": "python",
   "name": "python2"
  },
  "language_info": {
   "codemirror_mode": {
    "name": "ipython",
    "version": 2
   },
   "file_extension": ".py",
   "mimetype": "text/x-python",
   "name": "python",
   "nbconvert_exporter": "python",
   "pygments_lexer": "ipython2",
   "version": "2.7.10"
  }
 },
 "nbformat": 4,
 "nbformat_minor": 0
}
