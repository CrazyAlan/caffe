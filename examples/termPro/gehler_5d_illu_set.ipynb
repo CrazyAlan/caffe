{
 "cells": [
  {
   "cell_type": "markdown",
   "metadata": {},
   "source": [
    "##Read Image"
   ]
  },
  {
   "cell_type": "code",
   "execution_count": 64,
   "metadata": {
    "collapsed": false
   },
   "outputs": [],
   "source": [
    "import h5py\n",
    "import numpy as np\n",
    "from random import shuffle"
   ]
  },
  {
   "cell_type": "code",
   "execution_count": 65,
   "metadata": {
    "collapsed": true
   },
   "outputs": [],
   "source": [
    "fname = \"/home/xca64/remote/GitHub/colorP/dataSet/geler/Gehler_Extras/Illuminants.txt\"\n",
    "with open(fname) as f:\n",
    "    content = f.readlines()"
   ]
  },
  {
   "cell_type": "code",
   "execution_count": 56,
   "metadata": {
    "collapsed": false,
    "scrolled": true
   },
   "outputs": [
    {
     "name": "stdout",
     "output_type": "stream",
     "text": [
      "['0.0483994', ' 0.0427776', ' 0.0404933']\n",
      "/local-scratch/xca64/geler/source/IMG_0282.tiff\n"
     ]
    }
   ],
   "source": [
    "print (content[1][:-3]).split(',')\n",
    "print \"/local-scratch/xca64/geler/source/\" + content[3][:-2]"
   ]
  },
  {
   "cell_type": "code",
   "execution_count": 66,
   "metadata": {
    "collapsed": false
   },
   "outputs": [
    {
     "name": "stdout",
     "output_type": "stream",
     "text": [
      "<type 'int'>\n"
     ]
    }
   ],
   "source": [
    "shuffle_index = list(range(len(content)/3))\n",
    "shuffle(shuffle_index)\n",
    "print type(shuffle_index[1])"
   ]
  },
  {
   "cell_type": "code",
   "execution_count": 67,
   "metadata": {
    "collapsed": false
   },
   "outputs": [],
   "source": [
    "illu = np.zeros([len(content)/3,3])\n",
    "src = []\n",
    "for i in range(len(content)/3):\n",
    "    illu[i, :] = np.array([float(x) for x in ((content[i*3+1][:-3]).split(','))])\n",
    "    src.append(\"/local-scratch/xca64/geler/source/\" + content[i*3][:-2] + \" 0\\n\")"
   ]
  },
  {
   "cell_type": "code",
   "execution_count": 59,
   "metadata": {
    "collapsed": false
   },
   "outputs": [
    {
     "name": "stdout",
     "output_type": "stream",
     "text": [
      "482\n",
      "(50, 3)\n"
     ]
    }
   ],
   "source": [
    "print len(illu)\n",
    "print np.shape(illu[:50,:])"
   ]
  },
  {
   "cell_type": "markdown",
   "metadata": {},
   "source": [
    "#Save data to h5"
   ]
  },
  {
   "cell_type": "code",
   "execution_count": 70,
   "metadata": {
    "collapsed": false
   },
   "outputs": [
    {
     "name": "stdout",
     "output_type": "stream",
     "text": [
      "321\n",
      "161\n"
     ]
    }
   ],
   "source": [
    "illu_train = np.zeros([2*len(content)/9,3])\n",
    "illu_test = np.zeros([len(content)/3-2*len(content)/9,3])\n",
    "src_train = []\n",
    "src_test = []\n",
    "for i in range(len(content)/3):\n",
    "    #print type(i)\n",
    "    #print type(shuffle_index[i])\n",
    "    if i < 2*len(content)/9:\n",
    "        illu_train[i, :] = illu[shuffle_index[i], :]\n",
    "        src_train.append(src[shuffle_index[i]])\n",
    "    else:\n",
    "        illu_test[i-2*len(content)/9, :] = illu[shuffle_index[i], :]\n",
    "        src_test.append(src[shuffle_index[i]])\n",
    "print len(illu_train)\n",
    "print len(illu_test)"
   ]
  },
  {
   "cell_type": "code",
   "execution_count": 68,
   "metadata": {
    "collapsed": false
   },
   "outputs": [],
   "source": [
    "\n",
    "\n",
    "f = open('/home/xca64/remote/data/train_src.txt', 'w')\n",
    "for i in range(len(src_train)):\n",
    "    f.write(src_train[i])\n",
    "f.close()\n",
    "ft = open('/home/xca64/remote/data/test_src.txt', 'w')\n",
    "for i in range(len(src_test)):\n",
    "    ft.write(src_test[i])\n",
    "ft.close()\n",
    "with h5py.File('/home/xca64/remote/data/test_ill.h5') as h:\n",
    "    h['illu'] = illu_test\n",
    "with h5py.File('/home/xca64/remote/data/train_ill.h5') as h:\n",
    "    h['illu'] = illu_train"
   ]
  },
  {
   "cell_type": "markdown",
   "metadata": {},
   "source": [
    "#Save FileName"
   ]
  },
  {
   "cell_type": "code",
   "execution_count": 6,
   "metadata": {
    "collapsed": false
   },
   "outputs": [
    {
     "name": "stdout",
     "output_type": "stream",
     "text": [
      "/home/xca64/remote/data/IMG_0281.tiff,\n",
      "\n"
     ]
    }
   ],
   "source": [
    "print \"/home/xca64/remote/data/\"+content[0]"
   ]
  },
  {
   "cell_type": "code",
   "execution_count": 8,
   "metadata": {
    "collapsed": false
   },
   "outputs": [],
   "source": [
    "with open('/home/xca64/remote/data/train_gehler_482.txt','w') as f:\n",
    "    for i in range(482):\n",
    "        f.write( '/local-scratch/xca64/geler/source/'+content[i*3][:-2] + ' ' + str(i+1) + ' \\n')"
   ]
  },
  {
   "cell_type": "code",
   "execution_count": 63,
   "metadata": {
    "collapsed": false
   },
   "outputs": [
    {
     "name": "stdout",
     "output_type": "stream",
     "text": [
      "[[ 0.2696086  0.241372   0.2274181]\n",
      " [ 0.0381052  0.0338343  0.0314889]\n",
      " [ 0.22774    0.2021193  0.1882904]\n",
      " [ 0.062638   0.0428023  0.0242889]\n",
      " [ 0.2095521  0.1911319  0.1826869]\n",
      " [ 0.0947137  0.0823927  0.0733981]\n",
      " [ 0.0189412  0.017761   0.0174274]\n",
      " [ 0.2015218  0.1905255  0.1910462]\n",
      " [ 0.0886967  0.0842913  0.0855299]\n",
      " [ 0.1086819  0.1049114  0.0909246]\n",
      " [ 0.2486533  0.2317721  0.2266697]\n",
      " [ 0.1914388  0.1805963  0.1805519]\n",
      " [ 0.0460472  0.0398007  0.035594 ]\n",
      " [ 0.0403125  0.0186989  0.0059918]\n",
      " [ 0.2348294  0.2184106  0.2017134]\n",
      " [ 0.0810707  0.0381836  0.0123756]\n",
      " [ 0.0368757  0.0341521  0.0336643]\n",
      " [ 0.0616159  0.0557647  0.0524742]\n",
      " [ 0.0595031  0.0538915  0.0513607]\n",
      " [ 0.1880026  0.1193956  0.0447487]\n",
      " [ 0.0642806  0.0603353  0.059548 ]\n",
      " [ 0.2784743  0.271433   0.2758245]\n",
      " [ 0.1153575  0.1058642  0.0998305]\n",
      " [ 0.154395   0.1350137  0.1220313]\n",
      " [ 0.3750503  0.3116651  0.2673694]\n",
      " [ 0.1535335  0.1416412  0.1382597]\n",
      " [ 0.4491794  0.3898337  0.3416745]\n",
      " [ 0.0848563  0.0694545  0.0558557]\n",
      " [ 0.3929127  0.3530181  0.3339368]\n",
      " [ 0.0515596  0.0491156  0.0414756]\n",
      " [ 0.1162555  0.1099478  0.0941912]\n",
      " [ 0.1406146  0.1195363  0.1051489]\n",
      " [ 0.1450255  0.1372201  0.1353214]\n",
      " [ 0.1168346  0.1110539  0.1118024]\n",
      " [ 0.0068263  0.0058051  0.0044475]\n",
      " [ 0.0766484  0.039628   0.0149474]\n",
      " [ 0.0394099  0.0361898  0.0354225]\n",
      " [ 0.0284411  0.0273892  0.023059 ]\n",
      " [ 0.2182236  0.1153779  0.0449372]\n",
      " [ 0.1729338  0.151988   0.1306145]\n",
      " [ 0.115931   0.1019348  0.0924003]\n",
      " [ 0.0261143  0.0137406  0.0047338]\n",
      " [ 0.0625078  0.0555215  0.050817 ]\n",
      " [ 0.1441446  0.1322079  0.1259526]\n",
      " [ 0.0519705  0.0471135  0.0457247]\n",
      " [ 0.0421303  0.0306662  0.0195611]\n",
      " [ 0.1876043  0.1786871  0.1800602]\n",
      " [ 0.0733059  0.0702747  0.0710883]\n",
      " [ 0.0608558  0.0325411  0.0125249]\n",
      " [ 0.1991169  0.1746474  0.1543348]\n",
      " [ 0.1051412  0.0940889  0.0879878]\n",
      " [ 0.0958503  0.0901802  0.0759717]\n",
      " [ 0.1433976  0.1131535  0.0915259]\n",
      " [ 0.0496322  0.0440014  0.0403473]\n",
      " [ 0.0621719  0.0600828  0.0607057]\n",
      " [ 0.0645124  0.0537693  0.0461742]\n",
      " [ 0.1806117  0.1656225  0.1582779]\n",
      " [ 0.0271149  0.0258472  0.0256732]\n",
      " [ 0.0920513  0.08229    0.0771912]\n",
      " [ 0.1205626  0.1144796  0.1142746]\n",
      " [ 0.1993127  0.1839127  0.1775543]\n",
      " [ 0.2323234  0.2051439  0.1911467]\n",
      " [ 0.0223875  0.0145907  0.0057181]\n",
      " [ 0.1999702  0.1601257  0.1307649]\n",
      " [ 0.0344266  0.025617   0.016417 ]\n",
      " [ 0.0576314  0.0420321  0.027971 ]\n",
      " [ 0.1179535  0.063159   0.0265213]\n",
      " [ 0.1426684  0.1281289  0.1172865]\n",
      " [ 0.0765817  0.0654978  0.0562368]\n",
      " [ 0.1153815  0.0613126  0.024452 ]\n",
      " [ 0.1996704  0.1052304  0.0411556]\n",
      " [ 0.1243348  0.1098487  0.1002489]\n",
      " [ 0.1590407  0.1428459  0.1329777]\n",
      " [ 0.03804    0.0303935  0.0216742]\n",
      " [ 0.3082075  0.2737333  0.2524353]\n",
      " [ 0.0435379  0.0412019  0.0415891]\n",
      " [ 0.058468   0.0308694  0.0122945]\n",
      " [ 0.0738529  0.0668713  0.0634783]\n",
      " [ 0.0809324  0.0590289  0.0450431]\n",
      " [ 0.140504   0.0757475  0.0301592]\n",
      " [ 0.0461724  0.0249101  0.0096459]\n",
      " [ 0.0162987  0.0120398  0.0077593]\n",
      " [ 0.0842813  0.0767007  0.0728933]\n",
      " [ 0.1263277  0.0937538  0.066679 ]\n",
      " [ 0.3384059  0.1763464  0.0670239]\n",
      " [ 0.1578052  0.1391882  0.1223427]\n",
      " [ 0.1291377  0.1182209  0.1146279]\n",
      " [ 0.0906916  0.0826332  0.0766442]\n",
      " [ 0.1106784  0.0912051  0.0781661]\n",
      " [ 0.063357   0.0589629  0.0506092]\n",
      " [ 0.298237   0.1626518  0.0711553]\n",
      " [ 0.079051   0.0717725  0.0679755]\n",
      " [ 0.1463823  0.1174942  0.0973383]\n",
      " [ 0.059856   0.0265982  0.0077888]\n",
      " [ 0.0840689  0.0742305  0.0676068]\n",
      " [ 0.0304768  0.02857    0.0244641]\n",
      " [ 0.1276881  0.1134617  0.1046036]\n",
      " [ 0.2672185  0.2770861  0.3043842]\n",
      " [ 0.0727918  0.066176   0.063148 ]\n",
      " [ 0.2261431  0.1841515  0.1543568]\n",
      " [ 0.0629158  0.0617637  0.0641694]\n",
      " [ 0.1072454  0.1011839  0.1000002]\n",
      " [ 0.0929109  0.0495521  0.0182752]\n",
      " [ 0.0239379  0.0215798  0.0178891]\n",
      " [ 0.0508214  0.0446722  0.0403746]\n",
      " [ 0.0911424  0.0802126  0.0733525]\n",
      " [ 0.1217847  0.1163779  0.1154898]\n",
      " [ 0.1727927  0.0916399  0.0380356]\n",
      " [ 0.0912081  0.0726139  0.0544773]\n",
      " [ 0.0847213  0.0812568  0.081424 ]\n",
      " [ 0.051531   0.0346652  0.0215164]\n",
      " [ 0.3187649  0.2960232  0.2913736]\n",
      " [ 0.0904666  0.0596042  0.0346176]\n",
      " [ 0.1090837  0.0981487  0.0922434]\n",
      " [ 0.0674954  0.0596587  0.0560374]\n",
      " [ 0.1089976  0.0777055  0.0486377]\n",
      " [ 0.0327561  0.0289142  0.0276223]\n",
      " [ 0.0448522  0.043052   0.0435293]\n",
      " [ 0.0708241  0.0620683  0.0589984]\n",
      " [ 0.0586483  0.0554307  0.0517981]\n",
      " [ 0.1565155  0.1378739  0.1130308]\n",
      " [ 0.0718164  0.0616662  0.0543397]\n",
      " [ 0.0358806  0.0311566  0.027465 ]\n",
      " [ 0.1292478  0.1214848  0.1142337]\n",
      " [ 0.3867147  0.3423107  0.3156931]\n",
      " [ 0.0181847  0.0133404  0.0086034]\n",
      " [ 0.13697    0.1231075  0.1146846]\n",
      " [ 0.1188715  0.114448   0.1159602]\n",
      " [ 0.0314014  0.0285445  0.0233452]\n",
      " [ 0.0736781  0.0388701  0.0155657]\n",
      " [ 0.0622589  0.05134    0.039403 ]\n",
      " [ 0.3215725  0.2854541  0.2633367]\n",
      " [ 0.066381   0.0631552  0.0579164]\n",
      " [ 0.030745   0.0295766  0.0304438]\n",
      " [ 0.0675403  0.0364546  0.0141783]\n",
      " [ 0.0745489  0.0619331  0.0548576]\n",
      " [ 0.109237   0.0754874  0.0490685]\n",
      " [ 0.2770405  0.2544332  0.2422349]\n",
      " [ 0.0655938  0.04136    0.0234674]\n",
      " [ 0.1020086  0.0527301  0.0212946]\n",
      " [ 0.0672402  0.049112   0.0358697]\n",
      " [ 0.0467604  0.0387287  0.029063 ]\n",
      " [ 0.3590911  0.1968232  0.0856023]\n",
      " [ 0.0933725  0.0887739  0.089787 ]\n",
      " [ 0.1073172  0.0758067  0.0450893]\n",
      " [ 0.1850568  0.1497315  0.1250233]\n",
      " [ 0.0653562  0.0412803  0.0231266]\n",
      " [ 0.108105   0.0897165  0.0756436]\n",
      " [ 0.0173065  0.0138714  0.0107273]\n",
      " [ 0.0668695  0.0564162  0.0471077]\n",
      " [ 0.0712111  0.0387752  0.0148041]\n",
      " [ 0.0931958  0.0857628  0.0832687]\n",
      " [ 0.0995225  0.0616221  0.0331665]\n",
      " [ 0.096849   0.0898796  0.0884685]\n",
      " [ 0.119347   0.0634287  0.0252494]\n",
      " [ 0.047604   0.0249756  0.0095748]\n",
      " [ 0.1372089  0.1247584  0.118684 ]\n",
      " [ 0.1863682  0.1592107  0.12949  ]\n",
      " [ 0.0241366  0.0178689  0.0117344]\n",
      " [ 0.1475954  0.1482971  0.1554829]\n",
      " [ 0.122479   0.0758016  0.0399356]]\n"
     ]
    }
   ],
   "source": [
    "with h5py.File('/home/xca64/remote/data/test_ill.h5') as h:\n",
    "    print h['illu'][()]\n",
    "    "
   ]
  },
  {
   "cell_type": "code",
   "execution_count": 34,
   "metadata": {
    "collapsed": true
   },
   "outputs": [],
   "source": [
    "with open('/local-scratch/xca64/tmp/caffe-master/examples/my_img_preprocess/train_gehler_482.txt','w') as f:\n",
    "    for i in range(482):\n",
    "        f.write( content[i*3][:-2] + ' 0 \\n')"
   ]
  },
  {
   "cell_type": "markdown",
   "metadata": {},
   "source": [
    "#Read Gehler Mean data"
   ]
  },
  {
   "cell_type": "code",
   "execution_count": 39,
   "metadata": {
    "collapsed": false
   },
   "outputs": [],
   "source": [
    "import caffe #% suppose caffe is already in the path of Python\n",
    "import numpy as np\n",
    "import sys\n",
    "\n",
    "blob = caffe.proto.caffe_pb2.BlobProto()\n",
    "data = open( '/local-scratch/xca64/tmp/caffe-master/examples/my_img_preprocess/geler_482_mean.binaryproto' , 'rb' ).read()\n",
    "blob.ParseFromString(data)\n",
    "arr = np.array( caffe.io.blobproto_to_array(blob) )\n",
    "#arr.shape % check the shape of arr\n"
   ]
  },
  {
   "cell_type": "code",
   "execution_count": 44,
   "metadata": {
    "collapsed": false
   },
   "outputs": [
    {
     "name": "stdout",
     "output_type": "stream",
     "text": [
      "32.0892105103\n"
     ]
    }
   ],
   "source": [
    "print np.max(arr)\n"
   ]
  },
  {
   "cell_type": "code",
   "execution_count": null,
   "metadata": {
    "collapsed": true
   },
   "outputs": [],
   "source": []
  }
 ],
 "metadata": {
  "kernelspec": {
   "display_name": "Python 2",
   "language": "python",
   "name": "python2"
  },
  "language_info": {
   "codemirror_mode": {
    "name": "ipython",
    "version": 2
   },
   "file_extension": ".py",
   "mimetype": "text/x-python",
   "name": "python",
   "nbconvert_exporter": "python",
   "pygments_lexer": "ipython2",
   "version": "2.7.10"
  }
 },
 "nbformat": 4,
 "nbformat_minor": 0
}
