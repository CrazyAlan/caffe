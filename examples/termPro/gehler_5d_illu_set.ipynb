{
 "cells": [
  {
   "cell_type": "markdown",
   "metadata": {},
   "source": [
    "##Read Image"
   ]
  },
  {
   "cell_type": "code",
   "execution_count": 8,
   "metadata": {
    "collapsed": false
   },
   "outputs": [],
   "source": [
    "import h5py\n",
    "import numpy as np\n",
    "#from random import shuffle\n",
    "import os"
   ]
  },
  {
   "cell_type": "code",
   "execution_count": 10,
   "metadata": {
    "collapsed": false
   },
   "outputs": [],
   "source": [
    "# fname = \"/home/xca64/remote/GitHub/colorP/dataSet/geler/Gehler_Extras/Illuminants.txt\"\n",
    "# with open(fname) as f:\n",
    "#     content = f.readlines()\n",
    "# fname_src = \"/home/xca64/remote/data/shi_funt_filelist.txt\"\n",
    "# with open(fname_src) as f:\n",
    "#     content_src = f.readlines()\n",
    "# fname_illu = \"/home/xca64/remote/data/shi_funt_illu.txt\"\n",
    "# with open(fname_illu) as f:\n",
    "#     content_illu = f.readlines()\n",
    "# fname_src = \"/home/xca64/remote/data/geler_filelist.txt\"\n",
    "# with open(fname_src) as f:\n",
    "#     content_src = f.readlines()\n",
    "# fname_illu = \"/home/xca64/remote/data/geler_illu.txt\"\n",
    "# with open(fname_illu) as f:\n",
    "#     content_illu = f.readlines()\n",
    "fname_src = \"/home/xca64/remote/data/grayBall_filelist.txt\"\n",
    "with open(fname_src) as f:\n",
    "    content_src = f.readlines()\n",
    "fname_illu = \"/home/xca64/remote/data/grayBall_illu.txt\"\n",
    "with open(fname_illu) as f:\n",
    "    content_illu = f.readlines()"
   ]
  },
  {
   "cell_type": "code",
   "execution_count": 13,
   "metadata": {
    "collapsed": false,
    "scrolled": true
   },
   "outputs": [
    {
     "name": "stdout",
     "output_type": "stream",
     "text": [
      "['0.295976000000000', '0.331589000000000', '0.37243500000000']\n",
      "Source_Image/ApacheTrail/00000.jpg\n",
      "11346\n"
     ]
    }
   ],
   "source": [
    "#print (content[1][:-3]).split(',')\n",
    "#print \"/local-scratch/xca64/geler/source/\" + content[3][:-2]\n",
    "print content_illu[0][:-2].split(\"\\t\")\n",
    "print content_src[0][:-1]\n",
    "print len(content_illu)"
   ]
  },
  {
   "cell_type": "code",
   "execution_count": null,
   "metadata": {
    "collapsed": false
   },
   "outputs": [],
   "source": [
    "# shuffle_index = list(range(len(content)/3))\n",
    "# shuffle(shuffle_index)\n",
    "# print type(shuffle_index[1])"
   ]
  },
  {
   "cell_type": "code",
   "execution_count": 12,
   "metadata": {
    "collapsed": false
   },
   "outputs": [],
   "source": [
    "illu = np.zeros([len(content_src),3]) # len(content)/3\n",
    "src = []\n",
    "#f = open('/home/xca64/remote/data/shi_funt_src.txt', 'w')\n",
    "#f = open('/home/xca64/remote/data/geler_src.txt', 'w')\n",
    "f = open('/home/xca64/remote/data/grayBall_src.txt', 'w')\n",
    "for i in range(len(content_src)):\n",
    "    #illu[i, :] = np.array([float(x) for x in ((content[i*3+1][:-3]).split(','))])\n",
    "    #src.append(\"/local-scratch/xca64/geler/source/\" + content[i*3][:-2] + \" \" + str(i)+\"\\n\")\n",
    "    illu[i, :] = np.array([float(x) for x in ((content_illu[i])[:-2].split(\"\\t\"))])\n",
    "    #src.append(\"/local-scratch/xca64/shi_funt_new\" + content_src[i][:-1] + \" \" + str(i)+\"\\n\")\n",
    "    #src.append(\"/local-scratch/xca64/geler/source/\" + content_src[i][:-2] + \" \" + str(i)+\"\\n\")\n",
    "    src.append(\"/local-scratch/xca64/grayBall/\" + content_src[i][:-1] + \" \" + str(i)+\"\\n\")\n",
    "    f.write(src[i])\n",
    "f.close()"
   ]
  },
  {
   "cell_type": "code",
   "execution_count": null,
   "metadata": {
    "collapsed": false
   },
   "outputs": [],
   "source": [
    "print len(illu)\n",
    "print np.shape(illu[:50,:])"
   ]
  },
  {
   "cell_type": "markdown",
   "metadata": {},
   "source": [
    "#Save data to h5"
   ]
  },
  {
   "cell_type": "code",
   "execution_count": 14,
   "metadata": {
    "collapsed": false
   },
   "outputs": [
    {
     "name": "stdout",
     "output_type": "stream",
     "text": [
      "7564\n",
      "3782\n",
      "7564\n",
      "3782\n"
     ]
    }
   ],
   "source": [
    "#seprater = 2*len(content_src)/3 # len(content)/9\n",
    "seprater = 4*len(content_src)/5 \n",
    "#print(seprater)\n",
    "illu_train = illu[:seprater,:]\n",
    "illu_test = illu[seprater:,:]\n",
    "src_train = src[:seprater]\n",
    "src_test = src[seprater:]\n",
    "# for i in range(len(content)/3):\n",
    "#     #print type(i)\n",
    "#     #print type(shuffle_index[i])\n",
    "#     if i < 2*len(content)/9:\n",
    "#         illu_train[i, :] = illu[shuffle_index[i], :]\n",
    "#         src_train.append(src[shuffle_index[i]])\n",
    "#     else:\n",
    "#         illu_test[i-2*len(content)/9, :] = illu[shuffle_index[i], :]\n",
    "#         src_test.append(src[shuffle_index[i]])\n",
    "print len(illu_train)\n",
    "print len(illu_test)\n",
    "print len(src_train)\n",
    "print len(src_test)"
   ]
  },
  {
   "cell_type": "code",
   "execution_count": 15,
   "metadata": {
    "collapsed": false
   },
   "outputs": [],
   "source": [
    "dataPath = \"/home/xca64/remote/data/\"\n",
    "fileName = \"test_ill.h5\"\n",
    "rmCommand = \"rm -rf \" +  dataPath + fileName \n",
    "os.system(rmCommand)\n",
    "fileName = \"train_ill.h5\"\n",
    "rmCommand = \"rm -rf \" +  dataPath + fileName \n",
    "os.system(rmCommand)\n",
    "\n",
    "f = open('/home/xca64/remote/data/train_src.txt', 'w')\n",
    "for i in range(len(src_train)):\n",
    "    f.write(src_train[i])\n",
    "f.close()\n",
    "ft = open('/home/xca64/remote/data/test_src.txt', 'w')\n",
    "for i in range(len(src_test)):\n",
    "    ft.write(src_test[i])\n",
    "ft.close()\n",
    "\n",
    "\n",
    "with h5py.File('/home/xca64/remote/data/test_ill.h5') as h:\n",
    "    h['illu'] = illu_test\n",
    "with h5py.File('/home/xca64/remote/data/train_ill.h5') as h:\n",
    "    h['illu'] = illu_train"
   ]
  },
  {
   "cell_type": "markdown",
   "metadata": {},
   "source": [
    "#Save FileName"
   ]
  },
  {
   "cell_type": "code",
   "execution_count": null,
   "metadata": {
    "collapsed": false
   },
   "outputs": [],
   "source": [
    "print \"/home/xca64/remote/data/\"+content[0]"
   ]
  },
  {
   "cell_type": "code",
   "execution_count": null,
   "metadata": {
    "collapsed": false
   },
   "outputs": [],
   "source": [
    "with open('/home/xca64/remote/data/train_gehler_482.txt','w') as f:\n",
    "    for i in range(482):\n",
    "        f.write( '/local-scratch/xca64/geler/source/'+content[i*3][:-2] + ' ' + str(i+1) + ' \\n')"
   ]
  },
  {
   "cell_type": "code",
   "execution_count": 16,
   "metadata": {
    "collapsed": false
   },
   "outputs": [
    {
     "name": "stdout",
     "output_type": "stream",
     "text": [
      "[[ 0.295976  0.331589  0.372435]\n",
      " [ 0.298753  0.332463  0.368784]\n",
      " [ 0.301102  0.331784  0.367114]\n",
      " ..., \n",
      " [ 0.43492   0.337777  0.227303]\n",
      " [ 0.435385  0.337252  0.227363]\n",
      " [ 0.401349  0.345852  0.252799]]\n"
     ]
    }
   ],
   "source": [
    "with h5py.File('/home/xca64/remote/data/train_ill.h5') as h:\n",
    "    print h['illu'][()]\n",
    "    "
   ]
  },
  {
   "cell_type": "code",
   "execution_count": null,
   "metadata": {
    "collapsed": true
   },
   "outputs": [],
   "source": [
    "with open('/local-scratch/xca64/tmp/caffe-master/examples/my_img_preprocess/train_gehler_482.txt','w') as f:\n",
    "    for i in range(482):\n",
    "        f.write( content[i*3][:-2] + ' 0 \\n')"
   ]
  },
  {
   "cell_type": "markdown",
   "metadata": {},
   "source": [
    "#Read Gehler Mean data"
   ]
  },
  {
   "cell_type": "code",
   "execution_count": null,
   "metadata": {
    "collapsed": false
   },
   "outputs": [],
   "source": [
    "import caffe #% suppose caffe is already in the path of Python\n",
    "import numpy as np\n",
    "import sys\n",
    "\n",
    "blob = caffe.proto.caffe_pb2.BlobProto()\n",
    "data = open( '/local-scratch/xca64/tmp/caffe-master/examples/my_img_preprocess/geler_482_mean.binaryproto' , 'rb' ).read()\n",
    "blob.ParseFromString(data)\n",
    "arr = np.array( caffe.io.blobproto_to_array(blob) )\n",
    "#arr.shape % check the shape of arr\n"
   ]
  },
  {
   "cell_type": "code",
   "execution_count": null,
   "metadata": {
    "collapsed": false
   },
   "outputs": [],
   "source": [
    "print np.max(arr)\n"
   ]
  },
  {
   "cell_type": "code",
   "execution_count": null,
   "metadata": {
    "collapsed": true
   },
   "outputs": [],
   "source": []
  }
 ],
 "metadata": {
  "kernelspec": {
   "display_name": "Python 2",
   "language": "python",
   "name": "python2"
  },
  "language_info": {
   "codemirror_mode": {
    "name": "ipython",
    "version": 2
   },
   "file_extension": ".py",
   "mimetype": "text/x-python",
   "name": "python",
   "nbconvert_exporter": "python",
   "pygments_lexer": "ipython2",
   "version": "2.7.10"
  }
 },
 "nbformat": 4,
 "nbformat_minor": 0
}
