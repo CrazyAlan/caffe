{
 "cells": [
  {
   "cell_type": "code",
   "execution_count": 1,
   "metadata": {
    "collapsed": false
   },
   "outputs": [],
   "source": [
    "import os\n",
    "os.chdir('../../')\n",
    "import sys\n",
    "sys.path.insert(0, './python')\n",
    "sys.path.append('/local-scratch/xca64/tmp/caffe-master/python/myFunc')\n",
    "import caffe\n",
    "import numpy as np\n",
    "from pylab import *\n",
    "%matplotlib inline"
   ]
  },
  {
   "cell_type": "code",
   "execution_count": 2,
   "metadata": {
    "collapsed": false
   },
   "outputs": [],
   "source": [
    "niter = 200\n",
    "# losses will also be stored in the log\n",
    "train_loss = np.zeros(niter)\n",
    "scratch_train_loss = np.zeros(niter)\n",
    "\n",
    "caffe.set_device(0)\n",
    "caffe.set_mode_gpu()"
   ]
  },
  {
   "cell_type": "code",
   "execution_count": 3,
   "metadata": {
    "collapsed": false
   },
   "outputs": [],
   "source": [
    "solver = caffe.SGDSolver('models/color_constancy/gehler_482_solver.prototxt')\n",
    "solver.net.copy_from('models/bvlc_reference_caffenet/bvlc_reference_caffenet.caffemodel')"
   ]
  },
  {
   "cell_type": "code",
   "execution_count": 4,
   "metadata": {
    "collapsed": false
   },
   "outputs": [],
   "source": [
    "import tempfile"
   ]
  },
  {
   "cell_type": "code",
   "execution_count": 5,
   "metadata": {
    "collapsed": false
   },
   "outputs": [],
   "source": [
    "def run_solver(solver, niter, disp_interval):\n",
    "    blobs = ('loss', 'acc')\n",
    "    loss, acc = (np.zeros(niter), np.zeros(niter))\n",
    "    for it in range(niter):\n",
    "        solver.step(1)  # run a single SGD step in Caffe\n",
    "        loss[it] = (solver.net.blobs['loss'].data.copy())\n",
    "        acc[it] = 0#(solver.net.blobs['loss_ang'].data.copy())\n",
    "        if it % disp_interval == 0 or it + 1 == niter:\n",
    "            loss_disp = 'loss: %.3f'%loss[it]\n",
    "            print '%3d) %s Angular Erro %.3f' % (it, loss_disp, acc[it])     \n",
    "            print(solver.net.blobs['fc8_flickr'].data[1], solver.net.blobs['illu'].data[1])\n",
    "    # Save the learned weights from both nets.\n",
    "    weight_dir = tempfile.mkdtemp()\n",
    "    name = 'firstTry'\n",
    "    weights = {}\n",
    "    filename = 'weights.%s.caffemodel' % name\n",
    "    \n",
    "    weights[name] = os.path.join(weight_dir, filename)\n",
    "    solver.net.save(weights[name])\n",
    "    \n",
    "    return loss, acc, weights"
   ]
  },
  {
   "cell_type": "code",
   "execution_count": 6,
   "metadata": {
    "collapsed": false
   },
   "outputs": [
    {
     "name": "stdout",
     "output_type": "stream",
     "text": [
      "  0) loss: 26.042 Angular Erro 0.000\n",
      "(array([ 0.,  0.,  0.], dtype=float32), array([ 0.0406068,  0.0364151,  0.035649 ], dtype=float32))\n",
      " 10) loss: 1.698 Angular Erro 0.000\n",
      "(array([ 0.06815976,  0.05935829,  0.05213692], dtype=float32), array([ 0.0406068,  0.0364151,  0.035649 ], dtype=float32))\n",
      " 20) loss: 1.096 Angular Erro 0.000\n",
      "(array([ 0.09108315,  0.08113424,  0.07498337], dtype=float32), array([ 0.0406068,  0.0364151,  0.035649 ], dtype=float32))\n",
      " 30) loss: 1.113 Angular Erro 0.000\n",
      "(array([ 0.09980449,  0.08871404,  0.08244707], dtype=float32), array([ 0.0406068,  0.0364151,  0.035649 ], dtype=float32))\n",
      " 40) loss: 1.104 Angular Erro 0.000\n",
      "(array([ 0.10396863,  0.09138291,  0.08377092], dtype=float32), array([ 0.0406068,  0.0364151,  0.035649 ], dtype=float32))\n",
      " 50) loss: 1.069 Angular Erro 0.000\n",
      "(array([ 0.10453831,  0.09245061,  0.08521434], dtype=float32), array([ 0.0406068,  0.0364151,  0.035649 ], dtype=float32))\n",
      " 60) loss: 1.072 Angular Erro 0.000\n",
      "(array([ 0.10482872,  0.09282716,  0.08561581], dtype=float32), array([ 0.0406068,  0.0364151,  0.035649 ], dtype=float32))\n",
      " 70) loss: 1.068 Angular Erro 0.000\n",
      "(array([ 0.10518542,  0.09292521,  0.08548493], dtype=float32), array([ 0.0406068,  0.0364151,  0.035649 ], dtype=float32))\n",
      " 80) loss: 1.069 Angular Erro 0.000\n",
      "(array([ 0.10513376,  0.09296677,  0.08565218], dtype=float32), array([ 0.0406068,  0.0364151,  0.035649 ], dtype=float32))\n",
      " 90) loss: 1.068 Angular Erro 0.000\n",
      "(array([ 0.10517024,  0.09298957,  0.08564357], dtype=float32), array([ 0.0406068,  0.0364151,  0.035649 ], dtype=float32))\n",
      "100) loss: 1.068 Angular Erro 0.000\n",
      "(array([ 0.10518677,  0.09299126,  0.08564411], dtype=float32), array([ 0.0406068,  0.0364151,  0.035649 ], dtype=float32))\n",
      "110) loss: 1.068 Angular Erro 0.000\n",
      "(array([ 0.10520329,  0.09299787,  0.08562545], dtype=float32), array([ 0.0406068,  0.0364151,  0.035649 ], dtype=float32))\n",
      "120) loss: 1.095 Angular Erro 0.000\n",
      "(array([ 0.10519335,  0.09299732,  0.08564147], dtype=float32), array([ 0.0406068,  0.0364151,  0.035649 ], dtype=float32))\n",
      "130) loss: 1.069 Angular Erro 0.000\n",
      "(array([ 0.10517467,  0.09300364,  0.08565946], dtype=float32), array([ 0.0406068,  0.0364151,  0.035649 ], dtype=float32))\n",
      "140) loss: 1.069 Angular Erro 0.000\n",
      "(array([ 0.10518041,  0.09299401,  0.08566469], dtype=float32), array([ 0.0406068,  0.0364151,  0.035649 ], dtype=float32))\n",
      "150) loss: 1.069 Angular Erro 0.000\n",
      "(array([ 0.10518645,  0.09298638,  0.08566682], dtype=float32), array([ 0.0406068,  0.0364151,  0.035649 ], dtype=float32))\n",
      "160) loss: 1.068 Angular Erro 0.000\n",
      "(array([ 0.10518512,  0.09299552,  0.08565902], dtype=float32), array([ 0.0406068,  0.0364151,  0.035649 ], dtype=float32))\n",
      "170) loss: 1.077 Angular Erro 0.000\n",
      "(array([ 0.10518409,  0.09300132,  0.08565424], dtype=float32), array([ 0.0406068,  0.0364151,  0.035649 ], dtype=float32))\n",
      "180) loss: 1.069 Angular Erro 0.000\n",
      "(array([ 0.1051892 ,  0.09299777,  0.08565211], dtype=float32), array([ 0.0406068,  0.0364151,  0.035649 ], dtype=float32))\n",
      "190) loss: 1.068 Angular Erro 0.000\n",
      "(array([ 0.10518505,  0.0930009 ,  0.08565444], dtype=float32), array([ 0.0406068,  0.0364151,  0.035649 ], dtype=float32))\n",
      "200) loss: 1.068 Angular Erro 0.000\n",
      "(array([ 0.10518637,  0.09299947,  0.08565518], dtype=float32), array([ 0.0406068,  0.0364151,  0.035649 ], dtype=float32))\n",
      "210) loss: 1.068 Angular Erro 0.000\n",
      "(array([ 0.10518963,  0.09299525,  0.0856562 ], dtype=float32), array([ 0.0406068,  0.0364151,  0.035649 ], dtype=float32))\n",
      "220) loss: 1.068 Angular Erro 0.000\n",
      "(array([ 0.10518992,  0.09299476,  0.08565656], dtype=float32), array([ 0.0406068,  0.0364151,  0.035649 ], dtype=float32))\n",
      "230) loss: 1.068 Angular Erro 0.000\n",
      "(array([ 0.10518941,  0.09299532,  0.0856567 ], dtype=float32), array([ 0.0406068,  0.0364151,  0.035649 ], dtype=float32))\n",
      "240) loss: 1.069 Angular Erro 0.000\n",
      "(array([ 0.10519017,  0.09299539,  0.08565575], dtype=float32), array([ 0.0406068,  0.0364151,  0.035649 ], dtype=float32))\n",
      "250) loss: 1.138 Angular Erro 0.000\n",
      "(array([ 0.10519014,  0.09299574,  0.08565545], dtype=float32), array([ 0.0406068,  0.0364151,  0.035649 ], dtype=float32))\n",
      "260) loss: 1.069 Angular Erro 0.000\n",
      "(array([ 0.10518952,  0.09299829,  0.08565366], dtype=float32), array([ 0.0406068,  0.0364151,  0.035649 ], dtype=float32))\n",
      "270) loss: 1.068 Angular Erro 0.000\n",
      "(array([ 0.10518876,  0.09299954,  0.08565334], dtype=float32), array([ 0.0406068,  0.0364151,  0.035649 ], dtype=float32))\n",
      "280) loss: 1.069 Angular Erro 0.000\n",
      "(array([ 0.10518792,  0.09300014,  0.0856538 ], dtype=float32), array([ 0.0406068,  0.0364151,  0.035649 ], dtype=float32))\n",
      "290) loss: 1.073 Angular Erro 0.000\n",
      "(array([ 0.10518648,  0.09300086,  0.08565486], dtype=float32), array([ 0.0406068,  0.0364151,  0.035649 ], dtype=float32))\n",
      "300) loss: 1.069 Angular Erro 0.000\n",
      "(array([ 0.1051849 ,  0.09300221,  0.08565542], dtype=float32), array([ 0.0406068,  0.0364151,  0.035649 ], dtype=float32))\n",
      "310) loss: 1.068 Angular Erro 0.000\n",
      "(array([ 0.1051843 ,  0.09300264,  0.08565573], dtype=float32), array([ 0.0406068,  0.0364151,  0.035649 ], dtype=float32))\n",
      "320) loss: 1.068 Angular Erro 0.000\n",
      "(array([ 0.10518411,  0.0930028 ,  0.08565582], dtype=float32), array([ 0.0406068,  0.0364151,  0.035649 ], dtype=float32))\n",
      "330) loss: 1.068 Angular Erro 0.000\n",
      "(array([ 0.10518409,  0.09300281,  0.08565588], dtype=float32), array([ 0.0406068,  0.0364151,  0.035649 ], dtype=float32))\n",
      "340) loss: 1.068 Angular Erro 0.000\n",
      "(array([ 0.10518423,  0.09300267,  0.0856559 ], dtype=float32), array([ 0.0406068,  0.0364151,  0.035649 ], dtype=float32))\n",
      "350) loss: 1.068 Angular Erro 0.000\n",
      "(array([ 0.1051843 ,  0.09300252,  0.08565597], dtype=float32), array([ 0.0406068,  0.0364151,  0.035649 ], dtype=float32))\n",
      "360) loss: 1.097 Angular Erro 0.000\n",
      "(array([ 0.10518441,  0.09300242,  0.08565594], dtype=float32), array([ 0.0406068,  0.0364151,  0.035649 ], dtype=float32))\n",
      "370) loss: 1.068 Angular Erro 0.000\n",
      "(array([ 0.10518458,  0.09300248,  0.08565568], dtype=float32), array([ 0.0406068,  0.0364151,  0.035649 ], dtype=float32))\n",
      "380) loss: 1.063 Angular Erro 0.000\n",
      "(array([ 0.10518465,  0.09300253,  0.08565557], dtype=float32), array([ 0.0406068,  0.0364151,  0.035649 ], dtype=float32))\n",
      "390) loss: 1.068 Angular Erro 0.000\n",
      "(array([ 0.10518472,  0.09300254,  0.08565553], dtype=float32), array([ 0.0406068,  0.0364151,  0.035649 ], dtype=float32))\n",
      "400) loss: 1.068 Angular Erro 0.000\n",
      "(array([ 0.10518488,  0.09300255,  0.08565535], dtype=float32), array([ 0.0406068,  0.0364151,  0.035649 ], dtype=float32))\n",
      "410) loss: 1.069 Angular Erro 0.000\n",
      "(array([ 0.105185  ,  0.09300251,  0.08565524], dtype=float32), array([ 0.0406068,  0.0364151,  0.035649 ], dtype=float32))\n",
      "420) loss: 1.068 Angular Erro 0.000\n",
      "(array([ 0.10518508,  0.09300251,  0.08565522], dtype=float32), array([ 0.0406068,  0.0364151,  0.035649 ], dtype=float32))\n",
      "430) loss: 1.112 Angular Erro 0.000\n",
      "(array([ 0.10518508,  0.09300251,  0.08565522], dtype=float32), array([ 0.0406068,  0.0364151,  0.035649 ], dtype=float32))\n",
      "440) loss: 1.068 Angular Erro 0.000\n",
      "(array([ 0.10518508,  0.09300251,  0.08565522], dtype=float32), array([ 0.0406068,  0.0364151,  0.035649 ], dtype=float32))\n",
      "450) loss: 1.068 Angular Erro 0.000\n",
      "(array([ 0.10518508,  0.09300251,  0.08565522], dtype=float32), array([ 0.0406068,  0.0364151,  0.035649 ], dtype=float32))\n",
      "460) loss: 1.068 Angular Erro 0.000\n",
      "(array([ 0.10518508,  0.09300251,  0.08565522], dtype=float32), array([ 0.0406068,  0.0364151,  0.035649 ], dtype=float32))\n",
      "470) loss: 1.076 Angular Erro 0.000\n",
      "(array([ 0.10518508,  0.09300251,  0.08565522], dtype=float32), array([ 0.0406068,  0.0364151,  0.035649 ], dtype=float32))\n",
      "480) loss: 1.068 Angular Erro 0.000\n",
      "(array([ 0.10503406,  0.0930489 ,  0.08571826], dtype=float32), array([ 0.0406068,  0.0364151,  0.035649 ], dtype=float32))\n",
      "490) loss: 1.068 Angular Erro 0.000\n",
      "(array([ 0.10518508,  0.09300251,  0.08565522], dtype=float32), array([ 0.0406068,  0.0364151,  0.035649 ], dtype=float32))\n",
      "500) loss: 1.068 Angular Erro 0.000\n",
      "(array([ 0.10518508,  0.09300251,  0.08565522], dtype=float32), array([ 0.0406068,  0.0364151,  0.035649 ], dtype=float32))\n"
     ]
    },
    {
     "ename": "KeyboardInterrupt",
     "evalue": "",
     "output_type": "error",
     "traceback": [
      "\u001b[1;31m---------------------------------------------------------------------------\u001b[0m",
      "\u001b[1;31mKeyboardInterrupt\u001b[0m                         Traceback (most recent call last)",
      "\u001b[1;32m<ipython-input-6-c43ca31293cf>\u001b[0m in \u001b[0;36m<module>\u001b[1;34m()\u001b[0m\n\u001b[1;32m----> 1\u001b[1;33m \u001b[0mloss_1\u001b[0m\u001b[1;33m,\u001b[0m \u001b[0macc_1\u001b[0m\u001b[1;33m,\u001b[0m \u001b[0mweights_1\u001b[0m \u001b[1;33m=\u001b[0m \u001b[0mrun_solver\u001b[0m\u001b[1;33m(\u001b[0m\u001b[0msolver\u001b[0m\u001b[1;33m,\u001b[0m \u001b[1;36m1000\u001b[0m\u001b[1;33m,\u001b[0m\u001b[1;36m10\u001b[0m\u001b[1;33m)\u001b[0m\u001b[1;33m\u001b[0m\u001b[0m\n\u001b[0m",
      "\u001b[1;32m<ipython-input-5-079941fe6ad7>\u001b[0m in \u001b[0;36mrun_solver\u001b[1;34m(solver, niter, disp_interval)\u001b[0m\n\u001b[0;32m      3\u001b[0m     \u001b[0mloss\u001b[0m\u001b[1;33m,\u001b[0m \u001b[0macc\u001b[0m \u001b[1;33m=\u001b[0m \u001b[1;33m(\u001b[0m\u001b[0mnp\u001b[0m\u001b[1;33m.\u001b[0m\u001b[0mzeros\u001b[0m\u001b[1;33m(\u001b[0m\u001b[0mniter\u001b[0m\u001b[1;33m)\u001b[0m\u001b[1;33m,\u001b[0m \u001b[0mnp\u001b[0m\u001b[1;33m.\u001b[0m\u001b[0mzeros\u001b[0m\u001b[1;33m(\u001b[0m\u001b[0mniter\u001b[0m\u001b[1;33m)\u001b[0m\u001b[1;33m)\u001b[0m\u001b[1;33m\u001b[0m\u001b[0m\n\u001b[0;32m      4\u001b[0m     \u001b[1;32mfor\u001b[0m \u001b[0mit\u001b[0m \u001b[1;32min\u001b[0m \u001b[0mrange\u001b[0m\u001b[1;33m(\u001b[0m\u001b[0mniter\u001b[0m\u001b[1;33m)\u001b[0m\u001b[1;33m:\u001b[0m\u001b[1;33m\u001b[0m\u001b[0m\n\u001b[1;32m----> 5\u001b[1;33m         \u001b[0msolver\u001b[0m\u001b[1;33m.\u001b[0m\u001b[0mstep\u001b[0m\u001b[1;33m(\u001b[0m\u001b[1;36m1\u001b[0m\u001b[1;33m)\u001b[0m  \u001b[1;31m# run a single SGD step in Caffe\u001b[0m\u001b[1;33m\u001b[0m\u001b[0m\n\u001b[0m\u001b[0;32m      6\u001b[0m         \u001b[0mloss\u001b[0m\u001b[1;33m[\u001b[0m\u001b[0mit\u001b[0m\u001b[1;33m]\u001b[0m \u001b[1;33m=\u001b[0m \u001b[1;33m(\u001b[0m\u001b[0msolver\u001b[0m\u001b[1;33m.\u001b[0m\u001b[0mnet\u001b[0m\u001b[1;33m.\u001b[0m\u001b[0mblobs\u001b[0m\u001b[1;33m[\u001b[0m\u001b[1;34m'loss'\u001b[0m\u001b[1;33m]\u001b[0m\u001b[1;33m.\u001b[0m\u001b[0mdata\u001b[0m\u001b[1;33m.\u001b[0m\u001b[0mcopy\u001b[0m\u001b[1;33m(\u001b[0m\u001b[1;33m)\u001b[0m\u001b[1;33m)\u001b[0m\u001b[1;33m\u001b[0m\u001b[0m\n\u001b[0;32m      7\u001b[0m         \u001b[0macc\u001b[0m\u001b[1;33m[\u001b[0m\u001b[0mit\u001b[0m\u001b[1;33m]\u001b[0m \u001b[1;33m=\u001b[0m \u001b[1;36m0\u001b[0m\u001b[1;31m#(solver.net.blobs['loss_ang'].data.copy())\u001b[0m\u001b[1;33m\u001b[0m\u001b[0m\n",
      "\u001b[1;32m/local-scratch/xca64/tmp/caffe-master/python/pyloss.pyc\u001b[0m in \u001b[0;36mreshape\u001b[1;34m(self, bottom, top)\u001b[0m\n\u001b[0;32m     41\u001b[0m             \u001b[1;32mraise\u001b[0m \u001b[0mException\u001b[0m\u001b[1;33m(\u001b[0m\u001b[1;34m\"Need two inputs to compute distance.\"\u001b[0m\u001b[1;33m)\u001b[0m\u001b[1;33m\u001b[0m\u001b[0m\n\u001b[0;32m     42\u001b[0m \u001b[1;33m\u001b[0m\u001b[0m\n\u001b[1;32m---> 43\u001b[1;33m     \u001b[1;32mdef\u001b[0m \u001b[0mreshape\u001b[0m\u001b[1;33m(\u001b[0m\u001b[0mself\u001b[0m\u001b[1;33m,\u001b[0m \u001b[0mbottom\u001b[0m\u001b[1;33m,\u001b[0m \u001b[0mtop\u001b[0m\u001b[1;33m)\u001b[0m\u001b[1;33m:\u001b[0m\u001b[1;33m\u001b[0m\u001b[0m\n\u001b[0m\u001b[0;32m     44\u001b[0m         \u001b[1;31m# check input dimensions match\u001b[0m\u001b[1;33m\u001b[0m\u001b[1;33m\u001b[0m\u001b[0m\n\u001b[0;32m     45\u001b[0m         \u001b[1;32mif\u001b[0m \u001b[0mbottom\u001b[0m\u001b[1;33m[\u001b[0m\u001b[1;36m0\u001b[0m\u001b[1;33m]\u001b[0m\u001b[1;33m.\u001b[0m\u001b[0mcount\u001b[0m \u001b[1;33m!=\u001b[0m \u001b[0mbottom\u001b[0m\u001b[1;33m[\u001b[0m\u001b[1;36m1\u001b[0m\u001b[1;33m]\u001b[0m\u001b[1;33m.\u001b[0m\u001b[0mcount\u001b[0m\u001b[1;33m:\u001b[0m\u001b[1;33m\u001b[0m\u001b[0m\n",
      "\u001b[1;31mKeyboardInterrupt\u001b[0m: "
     ]
    }
   ],
   "source": [
    "loss_1, acc_1, weights_1 = run_solver(solver, 1000,10)"
   ]
  },
  {
   "cell_type": "code",
   "execution_count": null,
   "metadata": {
    "collapsed": true
   },
   "outputs": [],
   "source": [
    "import matplotlib.pyplot as plt\n",
    "import matplotlib.image as mpimg\n"
   ]
  },
  {
   "cell_type": "code",
   "execution_count": null,
   "metadata": {
    "collapsed": false
   },
   "outputs": [],
   "source": [
    "def deprocess_net_image(image, gamma):\n",
    "    image = image.copy()              # don't modify destructively\n",
    "    image = image[::-1]               # BGR -> RGB\n",
    "    image = image.transpose(1, 2, 0)  # CHW -> HWC\n",
    "    image += [123, 117, 104]          # (approximately) undo mean subtraction\n",
    "\n",
    "    # clamp values in [0, 255]\n",
    "    image[image < 0], image[image > 255] = 0, 255\n",
    "    \n",
    "    image = image.astype(np.float32)\n",
    "    image = image/255\n",
    "    image = image**gamma #Gamma correction\n",
    "    image = image*255\n",
    "\n",
    "    # round and cast from float32 to uint8\n",
    "    image = np.round(image)\n",
    "    image = np.require(image, dtype=np.uint8)\n",
    "\n",
    "    return image\n"
   ]
  },
  {
   "cell_type": "code",
   "execution_count": null,
   "metadata": {
    "collapsed": true
   },
   "outputs": [],
   "source": [
    "def my_deprocess_net_image(image, gamma):\n",
    "    image = image.copy()              # don't modify destructively\n",
    "    image = image[::-1]               # BGR -> RGB\n",
    "    image = image.transpose(1, 2, 0)  # CHW -> HWC\n",
    "    #image += [123, 117, 104]          # (approximately) undo mean subtraction\n",
    "\n",
    "    # clamp values in [0, 255]\n",
    "    image[image < 0], image[image > 255] = 0, 255\n",
    "    \n",
    "    image = image.astype(np.float32)\n",
    "    image = image/255\n",
    "    image = image**gamma #Gamma correction\n",
    "    image = image*255\n",
    "\n",
    "    # round and cast from float32 to uint8\n",
    "    image = np.round(image)\n",
    "    image = np.require(image, dtype=np.uint8)\n",
    "\n",
    "    return image"
   ]
  },
  {
   "cell_type": "code",
   "execution_count": null,
   "metadata": {
    "collapsed": true
   },
   "outputs": [],
   "source": [
    "solver.step(1)  # SGD by Caffe"
   ]
  },
  {
   "cell_type": "code",
   "execution_count": null,
   "metadata": {
    "collapsed": false
   },
   "outputs": [],
   "source": [
    "for i in range(0,5):\n",
    "    img = my_deprocess_net_image(solver.net.blobs['data'].data[i]*65536, 0.2)\n",
    "    print solver.net.blobs['illu'].data[i]\n",
    "    plt.figure(i)\n",
    "    plt.imshow(img)\n"
   ]
  },
  {
   "cell_type": "code",
   "execution_count": null,
   "metadata": {
    "collapsed": false
   },
   "outputs": [],
   "source": [
    "label = solver.net.blobs['illu'].data[20]\n",
    "print label\n",
    "print np.max(solver.net.blobs['data'].data[20])"
   ]
  },
  {
   "cell_type": "code",
   "execution_count": null,
   "metadata": {
    "collapsed": false
   },
   "outputs": [],
   "source": []
  },
  {
   "cell_type": "code",
   "execution_count": null,
   "metadata": {
    "collapsed": false
   },
   "outputs": [],
   "source": [
    "\n"
   ]
  },
  {
   "cell_type": "code",
   "execution_count": null,
   "metadata": {
    "collapsed": true
   },
   "outputs": [],
   "source": [
    "# We run the solver for niter times, and record the training loss.\n",
    "for it in range(niter):\n",
    "    solver.step(1)  # SGD by Caffe\n",
    "    # store the train loss\n",
    "    train_loss[it] = solver.net.blobs['loss'].data\n",
    "    if it % 10 == 0:\n",
    "        print 'iter %d, finetune_loss=%f, scratch_loss=' % (it, train_loss[it])\n",
    "print 'done'"
   ]
  }
 ],
 "metadata": {
  "kernelspec": {
   "display_name": "Python 2",
   "language": "python",
   "name": "python2"
  },
  "language_info": {
   "codemirror_mode": {
    "name": "ipython",
    "version": 2
   },
   "file_extension": ".py",
   "mimetype": "text/x-python",
   "name": "python",
   "nbconvert_exporter": "python",
   "pygments_lexer": "ipython2",
   "version": "2.7.10"
  }
 },
 "nbformat": 4,
 "nbformat_minor": 0
}
