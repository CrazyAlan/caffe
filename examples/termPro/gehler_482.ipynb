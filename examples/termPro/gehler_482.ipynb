{
 "cells": [
  {
   "cell_type": "code",
   "execution_count": null,
   "metadata": {
    "collapsed": false,
    "scrolled": true
   },
   "outputs": [],
   "source": [
    "#Copy data to local scratch\n",
    "import os\n",
    "datasetName = \"geler\"\n",
    "datasetFrom = \"/home/xca64/remote/GitHub/colorP/dataSet/\" + datasetName\n",
    "datasetTo = \"/local-scratch/xca64/\"\n",
    "cpCommand = \"cp -rf \" + datasetFrom + \" \" + datasetTo \n",
    "rmCommand = \"rm -rf \" +  datasetTo + datasetName \n",
    "print cpCommand \n",
    "os.system(cpCommand)"
   ]
  },
  {
   "cell_type": "code",
   "execution_count": 1,
   "metadata": {
    "collapsed": false,
    "scrolled": true
   },
   "outputs": [],
   "source": [
    "import os\n",
    "os.chdir('../../')\n",
    "import sys\n",
    "sys.path.insert(0, './python')\n",
    "sys.path.append('/local-scratch/xca64/tmp/caffe-master/python/myFunc')\n",
    "import caffe\n",
    "import numpy as np\n",
    "from pylab import *\n",
    "%matplotlib inline"
   ]
  },
  {
   "cell_type": "code",
   "execution_count": 2,
   "metadata": {
    "collapsed": false,
    "scrolled": true
   },
   "outputs": [],
   "source": [
    "niter = 200\n",
    "# losses will also be stored in the log\n",
    "train_loss = np.zeros(niter)\n",
    "scratch_train_loss = np.zeros(niter)\n",
    "\n",
    "caffe.set_device(0)\n",
    "caffe.set_mode_gpu()"
   ]
  },
  {
   "cell_type": "code",
   "execution_count": 3,
   "metadata": {
    "collapsed": false,
    "scrolled": true
   },
   "outputs": [],
   "source": [
    "solver = caffe.SGDSolver('models/color_constancy/gehler_482_solver.prototxt')\n",
    "solver.net.copy_from('models/bvlc_reference_caffenet/bvlc_reference_caffenet.caffemodel')"
   ]
  },
  {
   "cell_type": "code",
   "execution_count": 4,
   "metadata": {
    "collapsed": false,
    "scrolled": true
   },
   "outputs": [],
   "source": [
    "import tempfile"
   ]
  },
  {
   "cell_type": "code",
   "execution_count": 7,
   "metadata": {
    "collapsed": false,
    "scrolled": true
   },
   "outputs": [],
   "source": [
    "def run_solver(solver, niter, disp_interval):\n",
    "    blobs = ('loss', 'acc')\n",
    "    loss, acc = (np.zeros(niter), np.zeros(niter))\n",
    "    for it in range(niter):\n",
    "        solver.step(1)  # run a single SGD step in Caffe\n",
    "        loss[it] = (solver.net.blobs['loss'].data.copy())\n",
    "        acc[it] = 0#(solver.net.blobs['loss_ang'].data.copy())\n",
    "        if it % disp_interval == 0 or it + 1 == niter:\n",
    "            loss_disp = 'loss: %.3f'%loss[it]\n",
    "            print '%3d) %s Angular Erro %.3f' % (it, loss_disp, acc[it])     \n",
    "            print(solver.net.blobs['fc9'].data[1], solver.net.blobs['illu'].data[1])\n",
    "    # Save the learned weights from both nets.\n",
    "    weight_dir = tempfile.mkdtemp()\n",
    "    name = 'firstTry'\n",
    "    weights = {}\n",
    "    filename = 'weights.%s.caffemodel' % name\n",
    "    \n",
    "    weights[name] = os.path.join(weight_dir, filename)\n",
    "    solver.net.save(weights[name])\n",
    "    \n",
    "    return loss, acc, weights"
   ]
  },
  {
   "cell_type": "code",
   "execution_count": 8,
   "metadata": {
    "collapsed": false,
    "scrolled": true
   },
   "outputs": [
    {
     "name": "stdout",
     "output_type": "stream",
     "text": [
      "  0) loss: 41.984 Angular Erro 0.000\n",
      "(array([ 0.05942917,  0.01559612,  0.03532755], dtype=float32), array([ 0.1022988,  0.092635 ,  0.0841419], dtype=float32))\n",
      " 10) loss: 3.274 Angular Erro 0.000\n",
      "(array([ 0.50264037,  0.46024597,  0.40114674], dtype=float32), array([ 0.0860871,  0.0779288,  0.0730716], dtype=float32))\n",
      " 20) loss: 2.546 Angular Erro 0.000\n",
      "(array([ 1.60841   ,  1.38864648,  1.17414236], dtype=float32), array([ 0.0426969,  0.0368868,  0.0349014], dtype=float32))\n",
      " 30) loss: 3.275 Angular Erro 0.000\n",
      "(array([ 1.59596837,  1.42029691,  1.22112751], dtype=float32), array([ 0.0809324,  0.0590289,  0.0450431], dtype=float32))\n",
      " 40) loss: 4.270 Angular Erro 0.000\n",
      "(array([ 1.99348581,  1.70642638,  1.5401814 ], dtype=float32), array([ 0.15867279,  0.1136707 ,  0.0871683 ], dtype=float32))\n",
      " 50) loss: 4.124 Angular Erro 0.000\n",
      "(array([ 1.96735454,  1.74125051,  1.61262214], dtype=float32), array([ 0.1106784,  0.0912051,  0.0781661], dtype=float32))\n",
      " 60) loss: 2.913 Angular Erro 0.000\n",
      "(array([ 1.92502475,  1.75444758,  1.59374785], dtype=float32), array([ 0.1863682,  0.1592107,  0.12949  ], dtype=float32))\n",
      " 70) loss: 2.995 Angular Erro 0.000\n",
      "(array([ 1.23237824,  1.06186569,  0.98854321], dtype=float32), array([ 0.1153575,  0.1058642,  0.0998305], dtype=float32))\n",
      " 80) loss: 8.269 Angular Erro 0.000\n",
      "(array([ 1.41531289,  1.26424932,  1.21234   ], dtype=float32), array([ 0.0460472,  0.0398007,  0.035594 ], dtype=float32))\n",
      " 90) loss: 12.108 Angular Erro 0.000\n",
      "(array([ 1.4302727 ,  1.27077413,  1.19594681], dtype=float32), array([ 0.24865329,  0.23177209,  0.2266697 ], dtype=float32))\n",
      " 99) loss: 5.130 Angular Erro 0.000\n",
      "(array([ 1.38081503,  1.25051868,  1.19225347], dtype=float32), array([ 0.089632 ,  0.0796617,  0.07235  ], dtype=float32))\n"
     ]
    }
   ],
   "source": [
    "loss_1, acc_1, weights_1 = run_solver(solver, 100,10)"
   ]
  },
  {
   "cell_type": "code",
   "execution_count": null,
   "metadata": {
    "collapsed": true,
    "scrolled": true
   },
   "outputs": [],
   "source": [
    "import matplotlib.pyplot as plt\n",
    "import matplotlib.image as mpimg\n"
   ]
  },
  {
   "cell_type": "code",
   "execution_count": null,
   "metadata": {
    "collapsed": false
   },
   "outputs": [],
   "source": [
    "#print loss_1\n",
    "#plot the trainning los\n",
    "plot(np.vstack([loss_1]).clip(0, 10).T)\n",
    "solver.net.save('models/color_constancy/result/gehler_482_3000_iters.caffemodel')"
   ]
  },
  {
   "cell_type": "code",
   "execution_count": null,
   "metadata": {
    "collapsed": false,
    "scrolled": true
   },
   "outputs": [],
   "source": [
    "def deprocess_net_image(image, gamma):\n",
    "    image = image.copy()              # don't modify destructively\n",
    "    image = image[::-1]               # BGR -> RGB\n",
    "    image = image.transpose(1, 2, 0)  # CHW -> HWC\n",
    "    image += [123, 117, 104]          # (approximately) undo mean subtraction\n",
    "\n",
    "    # clamp values in [0, 255]\n",
    "    image[image < 0], image[image > 255] = 0, 255\n",
    "    \n",
    "    image = image.astype(np.float32)\n",
    "    image = image/255\n",
    "    image = image**gamma #Gamma correction\n",
    "    image = image*255\n",
    "\n",
    "    # round and cast from float32 to uint8\n",
    "    image = np.round(image)\n",
    "    image = np.require(image, dtype=np.uint8)\n",
    "\n",
    "    return image\n"
   ]
  },
  {
   "cell_type": "code",
   "execution_count": null,
   "metadata": {
    "collapsed": true,
    "scrolled": true
   },
   "outputs": [],
   "source": [
    "def my_deprocess_net_image(image, gamma):\n",
    "    image = image.copy()              # don't modify destructively\n",
    "    image = image[::-1]               # BGR -> RGB\n",
    "    image = image.transpose(1, 2, 0)  # CHW -> HWC\n",
    "    #image += [123, 117, 104]          # (approximately) undo mean subtraction\n",
    "\n",
    "    # clamp values in [0, 255]\n",
    "    image[image < 0], image[image > 255] = 0, 255\n",
    "    \n",
    "    image = image.astype(np.float32)\n",
    "    image = image/255\n",
    "    image = image**gamma #Gamma correction\n",
    "    image = image*255\n",
    "\n",
    "    # round and cast from float32 to uint8\n",
    "    image = np.round(image)\n",
    "    image = np.require(image, dtype=np.uint8)\n",
    "\n",
    "    return image"
   ]
  },
  {
   "cell_type": "code",
   "execution_count": null,
   "metadata": {
    "collapsed": true,
    "scrolled": true
   },
   "outputs": [],
   "source": [
    "solver.step(1)  # SGD by Caffe"
   ]
  },
  {
   "cell_type": "code",
   "execution_count": null,
   "metadata": {
    "collapsed": false,
    "scrolled": true
   },
   "outputs": [],
   "source": [
    "for i in range(0,5):\n",
    "    img = my_deprocess_net_image(solver.net.blobs['data'].data[i], 0.2)\n",
    "    print solver.net.blobs['illu'].data[i]\n",
    "    plt.figure(i)\n",
    "    plt.imshow(img)\n"
   ]
  },
  {
   "cell_type": "code",
   "execution_count": null,
   "metadata": {
    "collapsed": false,
    "scrolled": true
   },
   "outputs": [],
   "source": [
    "for i in range(0,5):\n",
    "    img = deprocess_net_image(solver.net.blobs['data'].data[i], 1)\n",
    "    print solver.net.blobs['illu'].data[i]\n",
    "    plt.figure(i)\n",
    "    plt.imshow(img)"
   ]
  },
  {
   "cell_type": "code",
   "execution_count": null,
   "metadata": {
    "collapsed": false,
    "scrolled": true
   },
   "outputs": [],
   "source": [
    "print np.min(solver.net.blobs['data'].data[1])\n",
    "print solver.net.blobs['data'].num"
   ]
  },
  {
   "cell_type": "code",
   "execution_count": null,
   "metadata": {
    "collapsed": false,
    "scrolled": true
   },
   "outputs": [],
   "source": [
    "os.system(rmCommand)"
   ]
  },
  {
   "cell_type": "code",
   "execution_count": null,
   "metadata": {
    "collapsed": true,
    "scrolled": true
   },
   "outputs": [],
   "source": [
    "# We run the solver for niter times, and record the training loss.\n",
    "for it in range(niter):\n",
    "    solver.step(1)  # SGD by Caffe\n",
    "    # store the train loss\n",
    "    train_loss[it] = solver.net.blobs['loss'].data\n",
    "    if it % 10 == 0:\n",
    "        print 'iter %d, finetune_loss=%f, scratch_loss=' % (it, train_loss[it])\n",
    "print 'done'"
   ]
  }
 ],
 "metadata": {
  "kernelspec": {
   "display_name": "Python 2",
   "language": "python",
   "name": "python2"
  },
  "language_info": {
   "codemirror_mode": {
    "name": "ipython",
    "version": 2
   },
   "file_extension": ".py",
   "mimetype": "text/x-python",
   "name": "python",
   "nbconvert_exporter": "python",
   "pygments_lexer": "ipython2",
   "version": "2.7.10"
  }
 },
 "nbformat": 4,
 "nbformat_minor": 0
}
