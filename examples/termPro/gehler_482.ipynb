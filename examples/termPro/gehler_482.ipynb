{
 "cells": [
  {
   "cell_type": "code",
   "execution_count": 1,
   "metadata": {
    "collapsed": false
   },
   "outputs": [],
   "source": [
    "import os\n",
    "os.chdir('../../')\n",
    "import sys\n",
    "sys.path.insert(0, './python')\n",
    "sys.path.append('/local-scratch/xca64/tmp/caffe-master/python/myFunc')\n",
    "import caffe\n",
    "import numpy as np\n",
    "from pylab import *\n",
    "%matplotlib inline"
   ]
  },
  {
   "cell_type": "code",
   "execution_count": 2,
   "metadata": {
    "collapsed": false
   },
   "outputs": [],
   "source": [
    "niter = 200\n",
    "# losses will also be stored in the log\n",
    "train_loss = np.zeros(niter)\n",
    "scratch_train_loss = np.zeros(niter)\n",
    "\n",
    "caffe.set_device(0)\n",
    "caffe.set_mode_gpu()"
   ]
  },
  {
   "cell_type": "code",
   "execution_count": 7,
   "metadata": {
    "collapsed": false
   },
   "outputs": [],
   "source": [
    "solver = caffe.SGDSolver('models/color_constancy/gehler_482_solver.prototxt')\n",
    "solver.net.copy_from('models/bvlc_reference_caffenet/bvlc_reference_caffenet.caffemodel')"
   ]
  },
  {
   "cell_type": "code",
   "execution_count": 4,
   "metadata": {
    "collapsed": false
   },
   "outputs": [],
   "source": [
    "import tempfile"
   ]
  },
  {
   "cell_type": "code",
   "execution_count": 5,
   "metadata": {
    "collapsed": false
   },
   "outputs": [],
   "source": [
    "def run_solver(solver, niter, disp_interval):\n",
    "    blobs = ('loss', 'acc')\n",
    "    loss, acc = (np.zeros(niter), np.zeros(niter))\n",
    "    for it in range(niter):\n",
    "        solver.step(1)  # run a single SGD step in Caffe\n",
    "        loss[it] = (solver.net.blobs['loss'].data.copy())\n",
    "        acc[it] = 0#(solver.net.blobs['loss_ang'].data.copy())\n",
    "        if it % disp_interval == 0 or it + 1 == niter:\n",
    "            loss_disp = 'loss: %.3f'%loss[it]\n",
    "            print '%3d) %s Angular Erro %.3f' % (it, loss_disp, acc[it])     \n",
    "           # print(solver.net.blobs['fc8_flickr'].data[1], solver.net.blobs['illu'].data[1])\n",
    "    # Save the learned weights from both nets.\n",
    "    weight_dir = tempfile.mkdtemp()\n",
    "    name = 'firstTry'\n",
    "    weights = {}\n",
    "    filename = 'weights.%s.caffemodel' % name\n",
    "    \n",
    "    weights[name] = os.path.join(weight_dir, filename)\n",
    "    solver.net.save(weights[name])\n",
    "    \n",
    "    return loss, acc, weights"
   ]
  },
  {
   "cell_type": "code",
   "execution_count": 8,
   "metadata": {
    "collapsed": false
   },
   "outputs": [
    {
     "name": "stdout",
     "output_type": "stream",
     "text": [
      "  0) loss: 21.655 Angular Erro 0.000\n",
      " 10) loss: 22.421 Angular Erro 0.000\n",
      " 20) loss: 7.145 Angular Erro 0.000\n",
      " 30) loss: 1.998 Angular Erro 0.000\n",
      " 40) loss: 2.254 Angular Erro 0.000\n",
      " 50) loss: 2.366 Angular Erro 0.000\n",
      " 60) loss: 4.237 Angular Erro 0.000\n",
      " 70) loss: 4.546 Angular Erro 0.000\n",
      " 80) loss: 4.130 Angular Erro 0.000\n",
      " 90) loss: 2.722 Angular Erro 0.000\n",
      "100) loss: 4.795 Angular Erro 0.000\n",
      "110) loss: 10.015 Angular Erro 0.000\n",
      "120) loss: 14.475 Angular Erro 0.000\n",
      "130) loss: 17.299 Angular Erro 0.000\n",
      "140) loss: 17.896 Angular Erro 0.000\n",
      "150) loss: 17.077 Angular Erro 0.000\n",
      "160) loss: 11.680 Angular Erro 0.000\n",
      "170) loss: 5.862 Angular Erro 0.000\n",
      "180) loss: 3.016 Angular Erro 0.000\n",
      "190) loss: 3.157 Angular Erro 0.000\n",
      "200) loss: 3.490 Angular Erro 0.000\n",
      "210) loss: 5.640 Angular Erro 0.000\n",
      "220) loss: 8.560 Angular Erro 0.000\n",
      "230) loss: 9.310 Angular Erro 0.000\n",
      "240) loss: 12.657 Angular Erro 0.000\n",
      "250) loss: 8.163 Angular Erro 0.000\n",
      "260) loss: 6.177 Angular Erro 0.000\n",
      "270) loss: 1.073 Angular Erro 0.000\n",
      "280) loss: 1.535 Angular Erro 0.000\n",
      "290) loss: 1.853 Angular Erro 0.000\n"
     ]
    },
    {
     "ename": "KeyboardInterrupt",
     "evalue": "",
     "output_type": "error",
     "traceback": [
      "\u001b[1;31m---------------------------------------------------------------------------\u001b[0m",
      "\u001b[1;31mKeyboardInterrupt\u001b[0m                         Traceback (most recent call last)",
      "\u001b[1;32m<ipython-input-8-c43ca31293cf>\u001b[0m in \u001b[0;36m<module>\u001b[1;34m()\u001b[0m\n\u001b[1;32m----> 1\u001b[1;33m \u001b[0mloss_1\u001b[0m\u001b[1;33m,\u001b[0m \u001b[0macc_1\u001b[0m\u001b[1;33m,\u001b[0m \u001b[0mweights_1\u001b[0m \u001b[1;33m=\u001b[0m \u001b[0mrun_solver\u001b[0m\u001b[1;33m(\u001b[0m\u001b[0msolver\u001b[0m\u001b[1;33m,\u001b[0m \u001b[1;36m1000\u001b[0m\u001b[1;33m,\u001b[0m\u001b[1;36m10\u001b[0m\u001b[1;33m)\u001b[0m\u001b[1;33m\u001b[0m\u001b[0m\n\u001b[0m",
      "\u001b[1;32m<ipython-input-5-fd3f3e9f114f>\u001b[0m in \u001b[0;36mrun_solver\u001b[1;34m(solver, niter, disp_interval)\u001b[0m\n\u001b[0;32m      3\u001b[0m     \u001b[0mloss\u001b[0m\u001b[1;33m,\u001b[0m \u001b[0macc\u001b[0m \u001b[1;33m=\u001b[0m \u001b[1;33m(\u001b[0m\u001b[0mnp\u001b[0m\u001b[1;33m.\u001b[0m\u001b[0mzeros\u001b[0m\u001b[1;33m(\u001b[0m\u001b[0mniter\u001b[0m\u001b[1;33m)\u001b[0m\u001b[1;33m,\u001b[0m \u001b[0mnp\u001b[0m\u001b[1;33m.\u001b[0m\u001b[0mzeros\u001b[0m\u001b[1;33m(\u001b[0m\u001b[0mniter\u001b[0m\u001b[1;33m)\u001b[0m\u001b[1;33m)\u001b[0m\u001b[1;33m\u001b[0m\u001b[0m\n\u001b[0;32m      4\u001b[0m     \u001b[1;32mfor\u001b[0m \u001b[0mit\u001b[0m \u001b[1;32min\u001b[0m \u001b[0mrange\u001b[0m\u001b[1;33m(\u001b[0m\u001b[0mniter\u001b[0m\u001b[1;33m)\u001b[0m\u001b[1;33m:\u001b[0m\u001b[1;33m\u001b[0m\u001b[0m\n\u001b[1;32m----> 5\u001b[1;33m         \u001b[0msolver\u001b[0m\u001b[1;33m.\u001b[0m\u001b[0mstep\u001b[0m\u001b[1;33m(\u001b[0m\u001b[1;36m1\u001b[0m\u001b[1;33m)\u001b[0m  \u001b[1;31m# run a single SGD step in Caffe\u001b[0m\u001b[1;33m\u001b[0m\u001b[0m\n\u001b[0m\u001b[0;32m      6\u001b[0m         \u001b[0mloss\u001b[0m\u001b[1;33m[\u001b[0m\u001b[0mit\u001b[0m\u001b[1;33m]\u001b[0m \u001b[1;33m=\u001b[0m \u001b[1;33m(\u001b[0m\u001b[0msolver\u001b[0m\u001b[1;33m.\u001b[0m\u001b[0mnet\u001b[0m\u001b[1;33m.\u001b[0m\u001b[0mblobs\u001b[0m\u001b[1;33m[\u001b[0m\u001b[1;34m'loss'\u001b[0m\u001b[1;33m]\u001b[0m\u001b[1;33m.\u001b[0m\u001b[0mdata\u001b[0m\u001b[1;33m.\u001b[0m\u001b[0mcopy\u001b[0m\u001b[1;33m(\u001b[0m\u001b[1;33m)\u001b[0m\u001b[1;33m)\u001b[0m\u001b[1;33m\u001b[0m\u001b[0m\n\u001b[0;32m      7\u001b[0m         \u001b[0macc\u001b[0m\u001b[1;33m[\u001b[0m\u001b[0mit\u001b[0m\u001b[1;33m]\u001b[0m \u001b[1;33m=\u001b[0m \u001b[1;36m0\u001b[0m\u001b[1;31m#(solver.net.blobs['loss_ang'].data.copy())\u001b[0m\u001b[1;33m\u001b[0m\u001b[0m\n",
      "\u001b[1;32m/local-scratch/xca64/tmp/caffe-master/python/pyloss.pyc\u001b[0m in \u001b[0;36mreshape\u001b[1;34m(self, bottom, top)\u001b[0m\n\u001b[0;32m     41\u001b[0m             \u001b[1;32mraise\u001b[0m \u001b[0mException\u001b[0m\u001b[1;33m(\u001b[0m\u001b[1;34m\"Need two inputs to compute distance.\"\u001b[0m\u001b[1;33m)\u001b[0m\u001b[1;33m\u001b[0m\u001b[0m\n\u001b[0;32m     42\u001b[0m \u001b[1;33m\u001b[0m\u001b[0m\n\u001b[1;32m---> 43\u001b[1;33m     \u001b[1;32mdef\u001b[0m \u001b[0mreshape\u001b[0m\u001b[1;33m(\u001b[0m\u001b[0mself\u001b[0m\u001b[1;33m,\u001b[0m \u001b[0mbottom\u001b[0m\u001b[1;33m,\u001b[0m \u001b[0mtop\u001b[0m\u001b[1;33m)\u001b[0m\u001b[1;33m:\u001b[0m\u001b[1;33m\u001b[0m\u001b[0m\n\u001b[0m\u001b[0;32m     44\u001b[0m         \u001b[1;31m# check input dimensions match\u001b[0m\u001b[1;33m\u001b[0m\u001b[1;33m\u001b[0m\u001b[0m\n\u001b[0;32m     45\u001b[0m         \u001b[1;32mif\u001b[0m \u001b[0mbottom\u001b[0m\u001b[1;33m[\u001b[0m\u001b[1;36m0\u001b[0m\u001b[1;33m]\u001b[0m\u001b[1;33m.\u001b[0m\u001b[0mcount\u001b[0m \u001b[1;33m!=\u001b[0m \u001b[0mbottom\u001b[0m\u001b[1;33m[\u001b[0m\u001b[1;36m1\u001b[0m\u001b[1;33m]\u001b[0m\u001b[1;33m.\u001b[0m\u001b[0mcount\u001b[0m\u001b[1;33m:\u001b[0m\u001b[1;33m\u001b[0m\u001b[0m\n",
      "\u001b[1;31mKeyboardInterrupt\u001b[0m: "
     ]
    }
   ],
   "source": [
    "loss_1, acc_1, weights_1 = run_solver(solver, 1000,10)"
   ]
  },
  {
   "cell_type": "code",
   "execution_count": 9,
   "metadata": {
    "collapsed": false
   },
   "outputs": [
    {
     "name": "stdout",
     "output_type": "stream",
     "text": [
      "[array([[ 0.14540583,  0.12833054,  0.11694371],\n",
      "       [ 0.14540583,  0.12833054,  0.11694371],\n",
      "       [ 0.14540583,  0.12833054,  0.11694371],\n",
      "       [ 0.14540583,  0.12833054,  0.11694371],\n",
      "       [ 0.14540583,  0.12833054,  0.11694371],\n",
      "       [ 0.14540583,  0.12833054,  0.11694371],\n",
      "       [ 0.14540583,  0.12833054,  0.11694371],\n",
      "       [ 0.14540583,  0.12833054,  0.11694371],\n",
      "       [ 0.14540583,  0.12833054,  0.11694371],\n",
      "       [ 0.14540583,  0.12833054,  0.11694371],\n",
      "       [ 0.14540583,  0.12833054,  0.11694371],\n",
      "       [ 0.14540583,  0.12833054,  0.11694371],\n",
      "       [ 0.14540583,  0.12833054,  0.11694371],\n",
      "       [ 0.14540583,  0.12833054,  0.11694371],\n",
      "       [ 0.14540583,  0.12833054,  0.11694371],\n",
      "       [ 0.14540583,  0.12833054,  0.11694371],\n",
      "       [ 0.14540583,  0.12833054,  0.11694371],\n",
      "       [ 0.14540583,  0.12833054,  0.11694371],\n",
      "       [ 0.14540583,  0.12833054,  0.11694371],\n",
      "       [ 0.14540583,  0.12833054,  0.11694371],\n",
      "       [ 0.14540583,  0.12833054,  0.11694371],\n",
      "       [ 0.14540583,  0.12833054,  0.11694371],\n",
      "       [ 0.14540583,  0.12833054,  0.11694371],\n",
      "       [ 0.14540583,  0.12833054,  0.11694371],\n",
      "       [ 0.14540583,  0.12833054,  0.11694371],\n",
      "       [ 0.14540583,  0.12833054,  0.11694371],\n",
      "       [ 0.14540583,  0.12833054,  0.11694371],\n",
      "       [ 0.14540583,  0.12833054,  0.11694371],\n",
      "       [ 0.14540583,  0.12833054,  0.11694371],\n",
      "       [ 0.14540583,  0.12833054,  0.11694371],\n",
      "       [ 0.14540583,  0.12833054,  0.11694371],\n",
      "       [ 0.14540583,  0.12833054,  0.11694371],\n",
      "       [ 0.14540583,  0.12833054,  0.11694371],\n",
      "       [ 0.14540583,  0.12833054,  0.11694371],\n",
      "       [ 0.14540583,  0.12833054,  0.11694371],\n",
      "       [ 0.14540583,  0.12833054,  0.11694371],\n",
      "       [ 0.14540583,  0.12833054,  0.11694371],\n",
      "       [ 0.14540583,  0.12833054,  0.11694371],\n",
      "       [ 0.14540583,  0.12833054,  0.11694371],\n",
      "       [ 0.14540583,  0.12833054,  0.11694371],\n",
      "       [ 0.14540583,  0.12833054,  0.11694371],\n",
      "       [ 0.14540583,  0.12833054,  0.11694371],\n",
      "       [ 0.14540583,  0.12833054,  0.11694371],\n",
      "       [ 0.14540583,  0.12833054,  0.11694371],\n",
      "       [ 0.14540583,  0.12833054,  0.11694371],\n",
      "       [ 0.14540583,  0.12833054,  0.11694371],\n",
      "       [ 0.14540583,  0.12833054,  0.11694371],\n",
      "       [ 0.14540583,  0.12833054,  0.11694371],\n",
      "       [ 0.14540583,  0.12833054,  0.11694371],\n",
      "       [ 0.14540583,  0.12833054,  0.11694371]], dtype=float32), array([[ 0.1806117 ,  0.1656225 ,  0.1582779 ],\n",
      "       [ 0.14414459,  0.1322079 ,  0.1259526 ],\n",
      "       [ 0.1193248 ,  0.1071337 ,  0.1006157 ],\n",
      "       [ 0.191589  ,  0.16064011,  0.1403418 ],\n",
      "       [ 0.1895811 ,  0.1518725 ,  0.12708069],\n",
      "       [ 0.0460472 ,  0.0398007 ,  0.035594  ],\n",
      "       [ 0.1030468 ,  0.0954926 ,  0.092037  ],\n",
      "       [ 0.0318103 ,  0.029435  ,  0.0274104 ],\n",
      "       [ 0.079051  ,  0.0717725 ,  0.0679755 ],\n",
      "       [ 0.0961546 ,  0.0903379 ,  0.0889065 ],\n",
      "       [ 0.2235322 ,  0.2108002 ,  0.2087822 ],\n",
      "       [ 0.1072454 ,  0.1011839 ,  0.1000002 ],\n",
      "       [ 0.088605  ,  0.0834845 ,  0.0835153 ],\n",
      "       [ 0.14502551,  0.1372201 ,  0.13532139],\n",
      "       [ 0.0705076 ,  0.067409  ,  0.0674475 ],\n",
      "       [ 0.0953142 ,  0.0900426 ,  0.0850849 ],\n",
      "       [ 0.27966031,  0.26035509,  0.24839041],\n",
      "       [ 0.1461383 ,  0.1353102 ,  0.12875231],\n",
      "       [ 0.2759034 ,  0.2591359 ,  0.25486949],\n",
      "       [ 0.1097426 ,  0.1013503 ,  0.097991  ],\n",
      "       [ 0.0428269 ,  0.0362408 ,  0.0319422 ],\n",
      "       [ 0.1292478 ,  0.1214848 ,  0.1142337 ],\n",
      "       [ 0.0840064 ,  0.0762617 ,  0.0712961 ],\n",
      "       [ 0.24865329,  0.23177209,  0.2266697 ],\n",
      "       [ 0.31088561,  0.29937619,  0.29912379],\n",
      "       [ 0.18760429,  0.1786871 ,  0.18006019],\n",
      "       [ 0.0616159 ,  0.0557647 ,  0.0524742 ],\n",
      "       [ 0.1437767 ,  0.1345928 ,  0.1304736 ],\n",
      "       [ 0.0221156 ,  0.0209858 ,  0.0209842 ],\n",
      "       [ 0.16604429,  0.1633524 ,  0.167318  ],\n",
      "       [ 0.1476617 ,  0.1398703 ,  0.13823681],\n",
      "       [ 0.2136209 ,  0.1883707 ,  0.1702916 ],\n",
      "       [ 0.1999702 ,  0.1601257 ,  0.1307649 ],\n",
      "       [ 0.32576531,  0.2521157 ,  0.1996845 ],\n",
      "       [ 0.0904666 ,  0.0596042 ,  0.0346176 ],\n",
      "       [ 0.0404135 ,  0.0275655 ,  0.017493  ],\n",
      "       [ 0.0862817 ,  0.0517386 ,  0.0265406 ],\n",
      "       [ 0.0810467 ,  0.0431543 ,  0.0173962 ],\n",
      "       [ 0.1153815 ,  0.0613126 ,  0.024452  ],\n",
      "       [ 0.2182236 ,  0.1153779 ,  0.0449372 ],\n",
      "       [ 0.0461724 ,  0.0249101 ,  0.0096459 ],\n",
      "       [ 0.0314014 ,  0.0285445 ,  0.0233452 ],\n",
      "       [ 0.1086819 ,  0.1049114 ,  0.0909246 ],\n",
      "       [ 0.0961004 ,  0.0517763 ,  0.0210895 ],\n",
      "       [ 0.0946447 ,  0.0499559 ,  0.0199678 ],\n",
      "       [ 0.0494686 ,  0.0328369 ,  0.020703  ],\n",
      "       [ 0.0252389 ,  0.0165733 ,  0.0097589 ],\n",
      "       [ 0.140504  ,  0.0757475 ,  0.0301592 ],\n",
      "       [ 0.19222911,  0.106698  ,  0.0479131 ],\n",
      "       [ 0.33840591,  0.17634641,  0.0670239 ]], dtype=float32)]\n"
     ]
    }
   ],
   "source": [
    "print [solver.net.blobs['fc8_flickr'].data, solver.net.blobs['illu'].data]\n"
   ]
  },
  {
   "cell_type": "code",
   "execution_count": null,
   "metadata": {
    "collapsed": true
   },
   "outputs": [],
   "source": [
    "solver = caffe.SGDSolver('models/color_constancy/solver.prototxt')\n",
    "solver.net.copy_from('models/bvlc_reference_caffenet/bvlc_reference_caffenet.caffemodel')"
   ]
  },
  {
   "cell_type": "code",
   "execution_count": null,
   "metadata": {
    "collapsed": true
   },
   "outputs": [],
   "source": []
  },
  {
   "cell_type": "code",
   "execution_count": null,
   "metadata": {
    "collapsed": true
   },
   "outputs": [],
   "source": [
    "solver.step(1)  # SGD by Caffe"
   ]
  },
  {
   "cell_type": "code",
   "execution_count": null,
   "metadata": {
    "collapsed": true
   },
   "outputs": [],
   "source": [
    "import matplotlib.pyplot as plt\n",
    "import matplotlib.image as mpimg\n"
   ]
  },
  {
   "cell_type": "code",
   "execution_count": null,
   "metadata": {
    "collapsed": false
   },
   "outputs": [],
   "source": [
    "def deprocess_net_image(image, gamma):\n",
    "    image = image.copy()              # don't modify destructively\n",
    "    image = image[::-1]               # BGR -> RGB\n",
    "    image = image.transpose(1, 2, 0)  # CHW -> HWC\n",
    "    image += [123, 117, 104]          # (approximately) undo mean subtraction\n",
    "\n",
    "    # clamp values in [0, 255]\n",
    "    image[image < 0], image[image > 255] = 0, 255\n",
    "    \n",
    "    image = image.astype(np.float32)\n",
    "    image = image/255\n",
    "    image = image**gamma #Gamma correction\n",
    "    image = image*255\n",
    "\n",
    "    # round and cast from float32 to uint8\n",
    "    image = np.round(image)\n",
    "    image = np.require(image, dtype=np.uint8)\n",
    "\n",
    "    return image\n"
   ]
  },
  {
   "cell_type": "code",
   "execution_count": null,
   "metadata": {
    "collapsed": true
   },
   "outputs": [],
   "source": [
    "def my_deprocess_net_image(image, gamma):\n",
    "    image = image.copy()              # don't modify destructively\n",
    "    image = image[::-1]               # BGR -> RGB\n",
    "    image = image.transpose(1, 2, 0)  # CHW -> HWC\n",
    "    #image += [123, 117, 104]          # (approximately) undo mean subtraction\n",
    "\n",
    "    # clamp values in [0, 255]\n",
    "    image[image < 0], image[image > 255] = 0, 255\n",
    "    \n",
    "    image = image.astype(np.float32)\n",
    "    image = image/255\n",
    "    image = image**gamma #Gamma correction\n",
    "    image = image*255\n",
    "\n",
    "    # round and cast from float32 to uint8\n",
    "    image = np.round(image)\n",
    "    image = np.require(image, dtype=np.uint8)\n",
    "\n",
    "    return image"
   ]
  },
  {
   "cell_type": "code",
   "execution_count": null,
   "metadata": {
    "collapsed": false
   },
   "outputs": [],
   "source": [
    "for i in range(5):\n",
    "    img = my_deprocess_net_image(solver.net.blobs['data'].data[i+20], 0.5)\n",
    "    plt.imshow(img)\n",
    "    plt.figure(i+1)"
   ]
  },
  {
   "cell_type": "code",
   "execution_count": null,
   "metadata": {
    "collapsed": false
   },
   "outputs": [],
   "source": [
    "label = solver.net.blobs['illu'].data[20]\n",
    "print label\n",
    "print np.max(solver.net.blobs['data'].data[20])"
   ]
  },
  {
   "cell_type": "code",
   "execution_count": null,
   "metadata": {
    "collapsed": false
   },
   "outputs": [],
   "source": []
  },
  {
   "cell_type": "code",
   "execution_count": null,
   "metadata": {
    "collapsed": false
   },
   "outputs": [],
   "source": [
    "\n"
   ]
  },
  {
   "cell_type": "code",
   "execution_count": null,
   "metadata": {
    "collapsed": true
   },
   "outputs": [],
   "source": [
    "# We run the solver for niter times, and record the training loss.\n",
    "for it in range(niter):\n",
    "    solver.step(1)  # SGD by Caffe\n",
    "    # store the train loss\n",
    "    train_loss[it] = solver.net.blobs['loss'].data\n",
    "    if it % 10 == 0:\n",
    "        print 'iter %d, finetune_loss=%f, scratch_loss=' % (it, train_loss[it])\n",
    "print 'done'"
   ]
  }
 ],
 "metadata": {
  "kernelspec": {
   "display_name": "Python 2",
   "language": "python",
   "name": "python2"
  },
  "language_info": {
   "codemirror_mode": {
    "name": "ipython",
    "version": 2
   },
   "file_extension": ".py",
   "mimetype": "text/x-python",
   "name": "python",
   "nbconvert_exporter": "python",
   "pygments_lexer": "ipython2",
   "version": "2.7.10"
  }
 },
 "nbformat": 4,
 "nbformat_minor": 0
}
