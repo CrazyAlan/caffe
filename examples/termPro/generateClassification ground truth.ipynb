{
 "cells": [
  {
   "cell_type": "markdown",
   "metadata": {},
   "source": [
    "##Read Image"
   ]
  },
  {
   "cell_type": "code",
   "execution_count": 2,
   "metadata": {
    "collapsed": false
   },
   "outputs": [],
   "source": [
    "import h5py\n",
    "import numpy as np\n",
    "#from random import shuffle\n",
    "import os"
   ]
  },
  {
   "cell_type": "code",
   "execution_count": 3,
   "metadata": {
    "collapsed": false
   },
   "outputs": [],
   "source": [
    "fname = \"/home/xca64/remote/GitHub/colorP/dataSet/geler/Gehler_Extras/Illuminants.txt\"\n",
    "with open(fname) as f:\n",
    "    content = f.readlines()\n",
    "# fname_src = \"/home/xca64/remote/data/shi_funt_filelist.txt\"\n",
    "# with open(fname_src) as f:\n",
    "#     content_src = f.readlines()\n",
    "# fname_illu = \"/home/xca64/remote/data/shi_funt_illu.txt\"\n",
    "# with open(fname_illu) as f:\n",
    "#     content_illu = f.readlines()\n",
    "# fname_src = \"/home/xca64/remote/data/geler_filelist.txt\"\n",
    "# with open(fname_src) as f:\n",
    "#     content_src = f.readlines()\n",
    "# fname_illu = \"/home/xca64/remote/data/geler_illu.txt\"\n",
    "# with open(fname_illu) as f:\n",
    "#     content_illu = f.readlines()\n",
    "# fname_src = \"/home/xca64/remote/data/grayBall_filelist.txt\"\n",
    "# with open(fname_src) as f:\n",
    "#     content_src = f.readlines()\n",
    "# fname_illu = \"/home/xca64/remote/data/grayBall_illu.txt\"\n",
    "# with open(fname_illu) as f:\n",
    "#     content_illu = f.readlines()"
   ]
  },
  {
   "cell_type": "code",
   "execution_count": 6,
   "metadata": {
    "collapsed": false,
    "scrolled": true
   },
   "outputs": [
    {
     "name": "stdout",
     "output_type": "stream",
     "text": [
      "1446\n"
     ]
    }
   ],
   "source": [
    "#print (content[1][:-3]).split(',')\n",
    "#print \"/local-scratch/xca64/geler/source/\" + content[3][:-2]\n",
    "# print content_illu[0][:-2].split(\"\\t\")\n",
    "# print content_src[0][:-1]\n",
    "print len(content)"
   ]
  },
  {
   "cell_type": "code",
   "execution_count": null,
   "metadata": {
    "collapsed": false
   },
   "outputs": [],
   "source": [
    "# shuffle_index = list(range(len(content)/3))\n",
    "# shuffle(shuffle_index)\n",
    "# print type(shuffle_index[1])"
   ]
  },
  {
   "cell_type": "code",
   "execution_count": 7,
   "metadata": {
    "collapsed": false
   },
   "outputs": [],
   "source": [
    "illu = np.zeros([len(content)/3,3]) #  len(content_src)\n",
    "src = []\n",
    "#f = open('/home/xca64/remote/data/shi_funt_src.txt', 'w')\n",
    "#f = open('/home/xca64/remote/data/geler_src.txt', 'w')\n",
    "#f = open('/home/xca64/remote/data/grayBall_src.txt', 'w')\n",
    "for i in range(len(content)/3): #  len(content_src)\n",
    "    illu[i, :] = np.array([float(x) for x in ((content[i*3+1][:-3]).split(','))])\n",
    "    src.append(\"/local-scratch/xca64/geler/source/\" + content[i*3][:-2] + \" \" + str(i)+\"\\n\")\n",
    "    #illu[i, :] = np.array([float(x) for x in ((content_illu[i])[:-2].split(\"\\t\"))])\n",
    "    #src.append(\"/local-scratch/xca64/shi_funt_new\" + content_src[i][:-1] + \" \" + str(i)+\"\\n\")\n",
    "    #src.append(\"/local-scratch/xca64/geler/source/\" + content_src[i][:-2] + \" \" + str(i)+\"\\n\")\n",
    "    #src.append(\"/local-scratch/xca64/grayBall/\" + content_src[i][:-1] + \" \" + str(i)+\"\\n\")\n",
    "    #f.write(src[i])\n",
    "#f.close()"
   ]
  },
  {
   "cell_type": "code",
   "execution_count": 8,
   "metadata": {
    "collapsed": false
   },
   "outputs": [
    {
     "name": "stdout",
     "output_type": "stream",
     "text": [
      "482\n",
      "(50, 3)\n"
     ]
    }
   ],
   "source": [
    "print len(illu)\n",
    "print np.shape(illu[:50,:])"
   ]
  },
  {
   "cell_type": "markdown",
   "metadata": {},
   "source": [
    "#Save data to h5"
   ]
  },
  {
   "cell_type": "code",
   "execution_count": 9,
   "metadata": {
    "collapsed": false
   },
   "outputs": [
    {
     "name": "stdout",
     "output_type": "stream",
     "text": [
      "321\n",
      "161\n",
      "321\n",
      "161\n"
     ]
    }
   ],
   "source": [
    "seprater = 2* len(content)/9 #len(content_src)/3 \n",
    "#print(seprater)\n",
    "illu_train = illu[:seprater,:]\n",
    "illu_test = illu[seprater:,:]\n",
    "src_train = src[:seprater]\n",
    "src_test = src[seprater:]\n",
    "# for i in range(len(content)/3):\n",
    "#     #print type(i)\n",
    "#     #print type(shuffle_index[i])\n",
    "#     if i < 2*len(content)/9:\n",
    "#         illu_train[i, :] = illu[shuffle_index[i], :]\n",
    "#         src_train.append(src[shuffle_index[i]])\n",
    "#     else:\n",
    "#         illu_test[i-2*len(content)/9, :] = illu[shuffle_index[i], :]\n",
    "#         src_test.append(src[shuffle_index[i]])\n",
    "print len(illu_train)\n",
    "print len(illu_test)\n",
    "print len(src_train)\n",
    "print len(src_test)"
   ]
  },
  {
   "cell_type": "code",
   "execution_count": 58,
   "metadata": {
    "collapsed": false
   },
   "outputs": [
    {
     "name": "stdout",
     "output_type": "stream",
     "text": [
      "[  12.   10.   39.   33.   32.   17.   24.   34.   10.    8.   22.   20.\n",
      "   14.   29.   19.    9.   19.   12.   21.   30.   31.   13.   23.   19.\n",
      "   23.   46.   58.   19.   99.   18.   20.   25.   10.   28.   26.   29.\n",
      "   47.   17.    8.    5.   13.   32.   33.   14.   25.   41.   23.   23.\n",
      "  100.   44.   21.   26.   21.   58.   47.   24.   38.   37.   12.   10.\n",
      "   37.   18.   91.   68.   32.   36.   33.   21.   18.   22.   26.   53.\n",
      "   36.   34.   44.   23.   17.   35.   83.   17.   20.  115.   96.   91.\n",
      "   41.  125.   70.   11.   39.   27.   28.   25.   44.   40.   32.   53.\n",
      "   14.   15.   31.   28.   18.   48.   32.   82.   79.   21.   16.   39.\n",
      "   28.   51.   17.   60.   11.   37.   17.   16.   27.   17.   24.   23.\n",
      "   19.   59.   13.   40.   15.   71.   27.    4.   32.   37.   15.   21.\n",
      "   28.    9.   47.   11.   28.   31.   19.   94.   45.   28.   41.   16.\n",
      "   25.   19.   16.   38.   49.    9.   69.   32.   27.    9.   13.   31.\n",
      "   10.   17.    4.   48.    9.   34.   19.   58.  106.   44.   35.   37.\n",
      "   26.   33.   19.   16.    6.   71.   68.   16.   16.   29.   21.   24.\n",
      "   14.   23.   22.   11.   37.   77.   21.   51.   33.   36.   46.   37.\n",
      "   30.   49.   48.   12.   26.    8.   20.   25.   57.   27.   23.   37.\n",
      "   18.   24.   71.   37.   70.   28.   11.   33.   21.   63.   79.   48.\n",
      "   16.   37.    6.   42.   38.   54.   51.   83.   23.   10.   22.   21.\n",
      "   29.   56.   12.    8.   28.   25.   24.   13.    6.   36.   49.   86.\n",
      "   73.   11.   36.   82.   26.    7.    8.   17.   16.    5.   21.    6.\n",
      "   11.    5.   17.   27.   23.   20.   15.    9.   15.   31.    8.   13.\n",
      "   18.   12.   17.   30.   39.   30.   92.   19.   15.   33.   23.   69.\n",
      "   11.    9.   17.   18.   18.   16.   25.    7.   18.   20.   18.   23.\n",
      "   32.   32.   13.   10.   28.    9.   76.   33.   28.   30.   38.   51.\n",
      "   16.   13.   36.    6.    7.   16.   29.   10.   43.   14.   25.   17.\n",
      "   32.    7.    9.   10.   16.   16.   28.   40.   28.]\n"
     ]
    }
   ],
   "source": [
    "print (np.round(illu_train*255)[:,0])"
   ]
  },
  {
   "cell_type": "code",
   "execution_count": 59,
   "metadata": {
    "collapsed": false
   },
   "outputs": [],
   "source": [
    "dataPath = \"/home/xca64/remote/data/\"\n",
    "fileName = \"test_ill.h5\"\n",
    "rmCommand = \"rm -rf \" +  dataPath + fileName \n",
    "os.system(rmCommand)\n",
    "fileName = \"train_ill.h5\"\n",
    "rmCommand = \"rm -rf \" +  dataPath + fileName \n",
    "os.system(rmCommand)\n",
    "\n",
    "f = open('/home/xca64/remote/data/train_src.txt', 'w')\n",
    "for i in range(len(src_train)):\n",
    "    f.write(src_train[i])\n",
    "f.close()\n",
    "ft = open('/home/xca64/remote/data/test_src.txt', 'w')\n",
    "for i in range(len(src_test)):\n",
    "    ft.write(src_test[i])\n",
    "ft.close()\n",
    "\n",
    "\n",
    "with h5py.File('/home/xca64/remote/data/test_ill.h5') as h:\n",
    "    h['illu_R'] = (np.round(illu_test*255)[:,0])#.astype(np.uint8)\n",
    "    h['illu_G'] = (np.round(illu_test*255)[:,1])#.astype(np.uint8)\n",
    "    h['illu_B'] = (np.round(illu_test*255)[:,2])#.astype(np.uint8)\n",
    "\n",
    "with h5py.File('/home/xca64/remote/data/train_ill.h5') as h:\n",
    "    h['illu_R'] = (np.round(illu_test*255)[:,0])#.astype(np.uint8)\n",
    "    h['illu_G'] = (np.round(illu_test*255)[:,1])#.astype(np.uint8)\n",
    "    h['illu_B'] = (np.round(illu_test*255)[:,2])#.astype(np.uint8)"
   ]
  },
  {
   "cell_type": "markdown",
   "metadata": {},
   "source": [
    "#Save FileName"
   ]
  },
  {
   "cell_type": "code",
   "execution_count": null,
   "metadata": {
    "collapsed": false
   },
   "outputs": [],
   "source": [
    "print \"/home/xca64/remote/data/\"+content[0]"
   ]
  },
  {
   "cell_type": "code",
   "execution_count": null,
   "metadata": {
    "collapsed": false
   },
   "outputs": [],
   "source": [
    "with open('/home/xca64/remote/data/train_gehler_482.txt','w') as f:\n",
    "    for i in range(482):\n",
    "        f.write( '/local-scratch/xca64/geler/source/'+content[i*3][:-2] + ' ' + str(i+1) + ' \\n')"
   ]
  },
  {
   "cell_type": "code",
   "execution_count": 62,
   "metadata": {
    "collapsed": false
   },
   "outputs": [
    {
     "name": "stdout",
     "output_type": "stream",
     "text": [
      "[ 41.  41.]\n"
     ]
    }
   ],
   "source": [
    "with h5py.File('/home/xca64/remote/data/train_ill.h5') as h:\n",
    "    r = h['illu_B'][()]\n",
    "    print (np.array([r,r]).transpose())[1,:]\n",
    "    "
   ]
  },
  {
   "cell_type": "code",
   "execution_count": null,
   "metadata": {
    "collapsed": true
   },
   "outputs": [],
   "source": [
    "with open('/local-scratch/xca64/tmp/caffe-master/examples/my_img_preprocess/train_gehler_482.txt','w') as f:\n",
    "    for i in range(482):\n",
    "        f.write( content[i*3][:-2] + ' 0 \\n')"
   ]
  },
  {
   "cell_type": "markdown",
   "metadata": {},
   "source": [
    "#Read Gehler Mean data"
   ]
  },
  {
   "cell_type": "code",
   "execution_count": null,
   "metadata": {
    "collapsed": false
   },
   "outputs": [],
   "source": [
    "import caffe #% suppose caffe is already in the path of Python\n",
    "import numpy as np\n",
    "import sys\n",
    "\n",
    "blob = caffe.proto.caffe_pb2.BlobProto()\n",
    "data = open( '/local-scratch/xca64/tmp/caffe-master/examples/my_img_preprocess/geler_482_mean.binaryproto' , 'rb' ).read()\n",
    "blob.ParseFromString(data)\n",
    "arr = np.array( caffe.io.blobproto_to_array(blob) )\n",
    "#arr.shape % check the shape of arr\n"
   ]
  },
  {
   "cell_type": "code",
   "execution_count": null,
   "metadata": {
    "collapsed": false
   },
   "outputs": [],
   "source": [
    "print np.max(arr)\n"
   ]
  },
  {
   "cell_type": "code",
   "execution_count": null,
   "metadata": {
    "collapsed": true
   },
   "outputs": [],
   "source": []
  }
 ],
 "metadata": {
  "kernelspec": {
   "display_name": "Python 2",
   "language": "python",
   "name": "python2"
  },
  "language_info": {
   "codemirror_mode": {
    "name": "ipython",
    "version": 2
   },
   "file_extension": ".py",
   "mimetype": "text/x-python",
   "name": "python",
   "nbconvert_exporter": "python",
   "pygments_lexer": "ipython2",
   "version": "2.7.10"
  }
 },
 "nbformat": 4,
 "nbformat_minor": 0
}
