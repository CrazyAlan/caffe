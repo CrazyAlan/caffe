{
 "cells": [
  {
   "cell_type": "markdown",
   "metadata": {},
   "source": [
    "##Read Image"
   ]
  },
  {
   "cell_type": "code",
   "execution_count": 1,
   "metadata": {
    "collapsed": false
   },
   "outputs": [],
   "source": [
    "import h5py\n",
    "import numpy as np\n",
    "#from random import shuffle\n",
    "import os"
   ]
  },
  {
   "cell_type": "code",
   "execution_count": 2,
   "metadata": {
    "collapsed": false
   },
   "outputs": [],
   "source": [
    "fname = \"/home/xca64/remote/GitHub/colorP/dataSet/geler/Gehler_Extras/Illuminants.txt\"\n",
    "with open(fname) as f:\n",
    "    content = f.readlines()\n",
    "# fname_src = \"/home/xca64/remote/data/shi_funt_filelist.txt\"\n",
    "# with open(fname_src) as f:\n",
    "#     content_src = f.readlines()\n",
    "# fname_illu = \"/home/xca64/remote/data/shi_funt_illu.txt\"\n",
    "# with open(fname_illu) as f:\n",
    "#     content_illu = f.readlines()\n",
    "# fname_src = \"/home/xca64/remote/data/geler_filelist.txt\"\n",
    "# with open(fname_src) as f:\n",
    "#     content_src = f.readlines()\n",
    "# fname_illu = \"/home/xca64/remote/data/geler_illu.txt\"\n",
    "# with open(fname_illu) as f:\n",
    "#     content_illu = f.readlines()\n",
    "# fname_src = \"/home/xca64/remote/data/grayBall_filelist.txt\"\n",
    "# with open(fname_src) as f:\n",
    "#     content_src = f.readlines()\n",
    "# fname_illu = \"/home/xca64/remote/data/grayBall_illu.txt\"\n",
    "# with open(fname_illu) as f:\n",
    "#     content_illu = f.readlines()"
   ]
  },
  {
   "cell_type": "code",
   "execution_count": 3,
   "metadata": {
    "collapsed": false,
    "scrolled": true
   },
   "outputs": [
    {
     "name": "stdout",
     "output_type": "stream",
     "text": [
      "1446\n"
     ]
    }
   ],
   "source": [
    "#print (content[1][:-3]).split(',')\n",
    "#print \"/local-scratch/xca64/geler/source/\" + content[3][:-2]\n",
    "# print content_illu[0][:-2].split(\"\\t\")\n",
    "# print content_src[0][:-1]\n",
    "print len(content)"
   ]
  },
  {
   "cell_type": "code",
   "execution_count": 4,
   "metadata": {
    "collapsed": false
   },
   "outputs": [],
   "source": [
    "# shuffle_index = list(range(len(content)/3))\n",
    "# shuffle(shuffle_index)\n",
    "# print type(shuffle_index[1])"
   ]
  },
  {
   "cell_type": "code",
   "execution_count": 5,
   "metadata": {
    "collapsed": false
   },
   "outputs": [],
   "source": [
    "illu = np.zeros([len(content)/3,3]) #  len(content_src)\n",
    "src = []\n",
    "#f = open('/home/xca64/remote/data/shi_funt_src.txt', 'w')\n",
    "#f = open('/home/xca64/remote/data/geler_src.txt', 'w')\n",
    "#f = open('/home/xca64/remote/data/grayBall_src.txt', 'w')\n",
    "for i in range(len(content)/3): #  len(content_src)\n",
    "    illu[i, :] = np.array([float(x) for x in ((content[i*3+1][:-3]).split(','))])\n",
    "    src.append(\"/local-scratch/xca64/geler/source/\" + content[i*3][:-2] + \" \" + str(i)+\"\\n\")\n",
    "    #illu[i, :] = np.array([float(x) for x in ((content_illu[i])[:-2].split(\"\\t\"))])\n",
    "    #src.append(\"/local-scratch/xca64/shi_funt_new\" + content_src[i][:-1] + \" \" + str(i)+\"\\n\")\n",
    "    #src.append(\"/local-scratch/xca64/geler/source/\" + content_src[i][:-2] + \" \" + str(i)+\"\\n\")\n",
    "    #src.append(\"/local-scratch/xca64/grayBall/\" + content_src[i][:-1] + \" \" + str(i)+\"\\n\")\n",
    "    #f.write(src[i])\n",
    "#f.close()"
   ]
  },
  {
   "cell_type": "code",
   "execution_count": 6,
   "metadata": {
    "collapsed": false
   },
   "outputs": [
    {
     "name": "stdout",
     "output_type": "stream",
     "text": [
      "[[ 0.36758024  0.3248842   0.30753556]\n",
      " [ 0.36040184  0.3231988   0.31639935]\n",
      " [ 0.36685234  0.3249667   0.30818096]\n",
      " ..., \n",
      " [ 0.56068848  0.30772501  0.13158652]\n",
      " [ 0.55108562  0.30718419  0.14173019]\n",
      " [ 0.50293817  0.31712636  0.17993547]]\n"
     ]
    }
   ],
   "source": [
    "#print len(illu)\n",
    "#print np.shape(illu[:50,:])\n",
    "illu = (illu.transpose() / (np.sum(illu,axis = 1)).transpose()).transpose()\n",
    "print illu"
   ]
  },
  {
   "cell_type": "markdown",
   "metadata": {},
   "source": [
    "#Save data to h5"
   ]
  },
  {
   "cell_type": "code",
   "execution_count": 7,
   "metadata": {
    "collapsed": false
   },
   "outputs": [
    {
     "name": "stdout",
     "output_type": "stream",
     "text": [
      "321\n",
      "161\n",
      "321\n",
      "161\n"
     ]
    }
   ],
   "source": [
    "seprater = 2* len(content)/9 #len(content_src)/3 \n",
    "#print(seprater)\n",
    "illu_train = illu[:seprater,:]\n",
    "illu_test = illu[seprater:,:]\n",
    "src_train = src[:seprater]\n",
    "src_test = src[seprater:]\n",
    "# for i in range(len(content)/3):\n",
    "#     #print type(i)\n",
    "#     #print type(shuffle_index[i])\n",
    "#     if i < 2*len(content)/9:\n",
    "#         illu_train[i, :] = illu[shuffle_index[i], :]\n",
    "#         src_train.append(src[shuffle_index[i]])\n",
    "#     else:\n",
    "#         illu_test[i-2*len(content)/9, :] = illu[shuffle_index[i], :]\n",
    "#         src_test.append(src[shuffle_index[i]])\n",
    "print len(illu_train)\n",
    "print len(illu_test)\n",
    "print len(src_train)\n",
    "print len(src_test)"
   ]
  },
  {
   "cell_type": "code",
   "execution_count": 9,
   "metadata": {
    "collapsed": false
   },
   "outputs": [
    {
     "name": "stdout",
     "output_type": "stream",
     "text": [
      "[  94.   92.   94.   92.   94.   94.   96.   94.   96.   94.   99.   98.\n",
      "   93.   92.   99.  103.   92.   94.   96.   95.   95.   94.   95.   92.\n",
      "   95.   95.   95.   97.   94.   95.   96.   95.   94.   95.   97.   96.\n",
      "  101.   94.   94.   97.   95.   95.   92.   92.   92.   93.   93.   93.\n",
      "   93.  100.   94.   93.   92.   94.   96.   93.   96.   92.  109.  108.\n",
      "  101.   98.  101.  101.  103.   99.  100.   94.   92.   93.   93.   93.\n",
      "   94.   94.   92.   93.   93.   93.   94.   99.   92.   97.  100.   92.\n",
      "   89.   88.   97.   95.  101.   96.  101.   96.   97.   96.  100.  101.\n",
      "   94.   94.   94.   95.   94.   96.   97.   94.   94.  112.   94.   96.\n",
      "  101.   96.  100.   91.  106.  103.   94.   94.   93.   95.   94.   93.\n",
      "   95.   94.   94.  113.  103.   91.   95.  115.   98.  103.  107.   95.\n",
      "  100.   90.  103.   92.   92.   87.  102.   88.   92.  101.   93.   85.\n",
      "   88.   87.   85.   83.   89.   79.   93.   91.  101.  110.  122.  131.\n",
      "  133.  113.  105.  100.   97.  103.   93.  102.  105.  102.  101.   99.\n",
      "   96.   94.  102.  100.   84.   86.   80.   93.   93.   92.  105.   93.\n",
      "   89.   95.   93.   91.  105.   92.   92.   91.   91.   90.   91.   91.\n",
      "   93.   99.  103.   97.   90.   91.   92.   89.   89.   89.   88.   89.\n",
      "   88.   90.   90.   91.   89.   91.   98.   90.   93.   90.   87.   88.\n",
      "   93.   90.   88.   85.   88.   95.  104.  107.  125.  121.  134.  146.\n",
      "  146.  147.  146.   96.   91.  145.  147.  122.  125.  145.  141.  148.\n",
      "  147.  136.  111.  148.  148.  139.   96.   90.  140.  137.  149.  118.\n",
      "  116.  124.  112.  120.  117.  137.  147.  148.  115.  142.   93.   92.\n",
      "   93.  148.  148.  146.  147.  145.  143.  147.  147.  146.  107.   94.\n",
      "  147.  143.  146.  146.  137.  138.   92.   92.  142.  149.  100.  137.\n",
      "  112.  134.  138.  139.  119.  137.  143.  146.  148.  148.  147.  147.\n",
      "  147.  127.  141.  134.  103.  104.  137.  146.  144.  150.  131.  128.\n",
      "  132.   92.  115.  105.  104.  117.  118.   98.   93.]\n"
     ]
    }
   ],
   "source": [
    "#print illu_train\n",
    "print (np.round(illu_train*255)[:,0])"
   ]
  },
  {
   "cell_type": "code",
   "execution_count": 10,
   "metadata": {
    "collapsed": false
   },
   "outputs": [],
   "source": [
    "dataPath = \"/home/xca64/remote/data/\"\n",
    "fileName = \"test_ill.h5\"\n",
    "rmCommand = \"rm -rf \" +  dataPath + fileName \n",
    "os.system(rmCommand)\n",
    "fileName = \"train_ill.h5\"\n",
    "rmCommand = \"rm -rf \" +  dataPath + fileName \n",
    "os.system(rmCommand)\n",
    "\n",
    "f = open('/home/xca64/remote/data/train_src.txt', 'w')\n",
    "for i in range(len(src_train)):\n",
    "    f.write(src_train[i])\n",
    "f.close()\n",
    "ft = open('/home/xca64/remote/data/test_src.txt', 'w')\n",
    "for i in range(len(src_test)):\n",
    "    ft.write(src_test[i])\n",
    "ft.close()\n",
    "\n",
    "\n",
    "with h5py.File('/home/xca64/remote/data/test_ill.h5') as h:\n",
    "    h['illu_R'] = (np.round(illu_test*255)[:,0])#.astype(np.uint8)\n",
    "    h['illu_G'] = (np.round(illu_test*255)[:,1])#.astype(np.uint8)\n",
    "    h['illu_B'] = (np.round(illu_test*255)[:,2])#.astype(np.uint8)\n",
    "\n",
    "with h5py.File('/home/xca64/remote/data/train_ill.h5') as h:\n",
    "    h['illu_R'] = (np.round(illu_test*255)[:,0])#.astype(np.uint8)\n",
    "    h['illu_G'] = (np.round(illu_test*255)[:,1])#.astype(np.uint8)\n",
    "    h['illu_B'] = (np.round(illu_test*255)[:,2])#.astype(np.uint8)"
   ]
  },
  {
   "cell_type": "markdown",
   "metadata": {},
   "source": [
    "#Save FileName"
   ]
  },
  {
   "cell_type": "code",
   "execution_count": null,
   "metadata": {
    "collapsed": false
   },
   "outputs": [],
   "source": [
    "print \"/home/xca64/remote/data/\"+content[0]"
   ]
  },
  {
   "cell_type": "code",
   "execution_count": null,
   "metadata": {
    "collapsed": false
   },
   "outputs": [],
   "source": [
    "with open('/home/xca64/remote/data/train_gehler_482.txt','w') as f:\n",
    "    for i in range(482):\n",
    "        f.write( '/local-scratch/xca64/geler/source/'+content[i*3][:-2] + ' ' + str(i+1) + ' \\n')"
   ]
  },
  {
   "cell_type": "code",
   "execution_count": null,
   "metadata": {
    "collapsed": false
   },
   "outputs": [],
   "source": [
    "with h5py.File('/home/xca64/remote/data/train_ill.h5') as h:\n",
    "    r = h['illu_B'][()]\n",
    "    print (np.array([r,r]).transpose())[1,:]\n",
    "    "
   ]
  },
  {
   "cell_type": "code",
   "execution_count": null,
   "metadata": {
    "collapsed": true
   },
   "outputs": [],
   "source": [
    "with open('/local-scratch/xca64/tmp/caffe-master/examples/my_img_preprocess/train_gehler_482.txt','w') as f:\n",
    "    for i in range(482):\n",
    "        f.write( content[i*3][:-2] + ' 0 \\n')"
   ]
  },
  {
   "cell_type": "markdown",
   "metadata": {},
   "source": [
    "#Read Gehler Mean data"
   ]
  },
  {
   "cell_type": "code",
   "execution_count": null,
   "metadata": {
    "collapsed": false
   },
   "outputs": [],
   "source": [
    "import caffe #% suppose caffe is already in the path of Python\n",
    "import numpy as np\n",
    "import sys\n",
    "\n",
    "blob = caffe.proto.caffe_pb2.BlobProto()\n",
    "data = open( '/local-scratch/xca64/tmp/caffe-master/examples/my_img_preprocess/geler_482_mean.binaryproto' , 'rb' ).read()\n",
    "blob.ParseFromString(data)\n",
    "arr = np.array( caffe.io.blobproto_to_array(blob) )\n",
    "#arr.shape % check the shape of arr\n"
   ]
  },
  {
   "cell_type": "code",
   "execution_count": null,
   "metadata": {
    "collapsed": false
   },
   "outputs": [],
   "source": [
    "print np.max(arr)\n"
   ]
  },
  {
   "cell_type": "code",
   "execution_count": null,
   "metadata": {
    "collapsed": true
   },
   "outputs": [],
   "source": []
  }
 ],
 "metadata": {
  "kernelspec": {
   "display_name": "Python 2",
   "language": "python",
   "name": "python2"
  },
  "language_info": {
   "codemirror_mode": {
    "name": "ipython",
    "version": 2
   },
   "file_extension": ".py",
   "mimetype": "text/x-python",
   "name": "python",
   "nbconvert_exporter": "python",
   "pygments_lexer": "ipython2",
   "version": "2.7.10"
  }
 },
 "nbformat": 4,
 "nbformat_minor": 0
}
