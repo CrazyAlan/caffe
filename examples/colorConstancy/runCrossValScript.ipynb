{
 "cells": [
  {
   "cell_type": "markdown",
   "metadata": {},
   "source": [
    "# Generate the trainning and validation set file \n",
    "1. list txt for training and validation\n",
    "2. h5 file for training and validation\n",
    "3. txt file refer to h5 file for training and validation"
   ]
  },
  {
   "cell_type": "code",
   "execution_count": 1,
   "metadata": {
    "collapsed": false
   },
   "outputs": [],
   "source": [
    "import h5py\n",
    "import numpy as np\n",
    "#from scipy import stats\n",
    "#from random import shuffle\n",
    "import os\n",
    "os.chdir('../../')\n",
    "import sys\n",
    "import time\n",
    "sys.path.insert(0, './python')\n",
    "sys.path.append('/local-scratch/xca64/tmp/caffe-master/python/myFunc')\n",
    "import caffe\n",
    "import numpy as np\n",
    "from pylab import *\n",
    "%matplotlib inline\n",
    "import matplotlib.pyplot as plt\n",
    "import matplotlib.image as mpimg\n",
    "import tempfile\n",
    "from colorConstancy import * \n",
    "\n",
    "caffe.set_device(0)\n",
    "caffe.set_mode_gpu()"
   ]
  },
  {
   "cell_type": "code",
   "execution_count": 12,
   "metadata": {
    "collapsed": true
   },
   "outputs": [],
   "source": [
    "def run_solver(solver, niter, disp_interval, test_interval):\n",
    "    blobs = ('loss', 'acc')\n",
    "    loss, acc = (np.zeros(niter), np.zeros(niter))\n",
    "    test_loss = (np.zeros(niter/test_interval)) \n",
    "    for it in range(niter):\n",
    "        solver.step(1)  # run a single SGD step in Caffe\n",
    "        loss[it] = (solver.net.blobs['loss'].data.copy())\n",
    "        acc[it] = (solver.net.blobs['loss_e'].data.copy())\n",
    "        if it % disp_interval == 0 or it + 1 == niter:\n",
    "            loss_disp = 'loss: %.3f'%loss[it]\n",
    "            print '%3d) %s Angular Erro %.3f' % (it, loss_disp, acc[it])     \n",
    "            print(solver.net.blobs['fc8_flickr'].data[1], solver.net.blobs['illu'].data[1])\n",
    "        # if it % test_interval == 0:\n",
    "        #     print \"%3d) test loss is %.3f\"% (it ,solver.test_nets[0].blobs['accuracy'].data.copy())\n",
    "        #     test_loss[it//test_interval] = solver.test_nets[0].blobs['accuracy'].data.copy()\n",
    "    # Save the learned weights from both nets.\n",
    "    weight_dir = tempfile.mkdtemp()\n",
    "    name = 'firstTry'\n",
    "    weights = {}\n",
    "    filename = 'weights.%s.caffemodel' % name\n",
    "    \n",
    "    weights[name] = os.path.join(weight_dir, filename)\n",
    "    solver.net.save(weights[name])\n",
    "    \n",
    "    return loss, test_loss, acc, weights"
   ]
  },
  {
   "cell_type": "markdown",
   "metadata": {
    "collapsed": false
   },
   "source": [
    "#Generate all training and validation files"
   ]
  },
  {
   "cell_type": "code",
   "execution_count": 21,
   "metadata": {
    "collapsed": false
   },
   "outputs": [],
   "source": [
    "fname = \"/home/xca64/remote/GitHub/colorP/dataSet/geler/Gehler_Extras/Illuminants.txt\"\n",
    "with open(fname) as f:\n",
    "    content = f.readlines()\n",
    "\n",
    "illu = np.zeros([len(content)/3,3]) #  len(content_src)\n",
    "src = []\n",
    "for i in range(len(content)/3): #  len(content_src)\n",
    "    illu[i, :] = np.array([float(x) for x in ((content[i*3+1][:-3]).split(','))])\n",
    "    src.append(\"/local-scratch/xca64/geler/source/\" + content[i*3][:-2] + \" \" + str(i)+\"\\n\")\n",
    "\n",
    "#Normalize it\n",
    "illu = (illu.transpose() / (np.sum(illu, axis = 1)).transpose()).transpose()\n",
    "#crossvalidation 1 1 '1' : \n",
    "seprater = 2* len(content)/9 #len(content_src)/3 \n",
    "illu_train = illu[:seprater,:]\n",
    "illu_test = illu[seprater:,:]\n",
    "src_train = src[:seprater]\n",
    "src_test = src[seprater:]\n",
    "\n",
    "#crossvalidation 1 '1' 1 : \n",
    "# seprater1 = len(content)/9 #len(content_src)/3 \n",
    "# seprater2 = 2* len(content)/9 #len(content_src)/3 \n",
    "# illu_train = np.vstack((illu[:seprater1,:],illu[seprater2:,:] ))\n",
    "# illu_test = illu[seprater1:seprater2,:]\n",
    "# src_train = src[:seprater1] + src[seprater2:]\n",
    "# src_test = src[seprater1:seprater2]\n",
    "\n",
    "#crossvalidation '1' 1 1 : \n",
    "# seprater = len(content)/9 #len(content_src)/3 \n",
    "# illu_train = illu[seprater:,:]\n",
    "# illu_test = illu[:seprater,:]\n",
    "# src_train = src[seprater:]\n",
    "# src_test = src[:seprater]\n",
    "\n",
    "# print np.shape(illu_train)\n",
    "# print np.shape(illu_test)\n",
    "# print len(src_train)\n",
    "# print len(src_test)\n"
   ]
  },
  {
   "cell_type": "code",
   "execution_count": 24,
   "metadata": {
    "collapsed": true
   },
   "outputs": [],
   "source": [
    "dataPath = \"/home/xca64/remote/data/\"\n",
    "fileName = \"test_ill.h5\"\n",
    "rmCommand = \"rm -rf \" +  dataPath + fileName \n",
    "os.system(rmCommand)\n",
    "fileName = \"train_ill.h5\"\n",
    "rmCommand = \"rm -rf \" +  dataPath + fileName \n",
    "os.system(rmCommand)\n",
    "\n",
    "f = open('/home/xca64/remote/data/train_src.txt', 'w')\n",
    "for i in range(len(src_train)):\n",
    "    f.write(src_train[i])\n",
    "f.close()\n",
    "ft = open('/home/xca64/remote/data/test_src.txt', 'w')\n",
    "for i in range(len(src_test)):\n",
    "    ft.write(src_test[i])\n",
    "ft.close()\n",
    "\n",
    "with h5py.File('/home/xca64/remote/data/test_ill.h5') as h:\n",
    "    h['illu'] = illu_test\n",
    "with h5py.File('/home/xca64/remote/data/train_ill.h5') as h:\n",
    "    h['illu'] = illu_train"
   ]
  },
  {
   "cell_type": "code",
   "execution_count": null,
   "metadata": {
    "collapsed": true
   },
   "outputs": [],
   "source": []
  },
  {
   "cell_type": "markdown",
   "metadata": {},
   "source": [
    "#Define Training Solver and Run"
   ]
  },
  {
   "cell_type": "code",
   "execution_count": 28,
   "metadata": {
    "collapsed": false
   },
   "outputs": [],
   "source": [
    "#Training Solver\n",
    "solver = caffe.SGDSolver('models/color_constancy/gehler_482_solver.prototxt')\n",
    "solver.net.copy_from('models/color_constancy/result/gehler_482_3000_iters_cross_validation.caffemodel')"
   ]
  },
  {
   "cell_type": "code",
   "execution_count": 30,
   "metadata": {
    "collapsed": false,
    "scrolled": true
   },
   "outputs": [
    {
     "name": "stdout",
     "output_type": "stream",
     "text": [
      "  0) loss: 10.801 Angular Erro 0.012\n",
      "(array([ 0.34887511,  0.27088884,  0.25054458], dtype=float32), array([ 0.39827657,  0.3261455 ,  0.27557793], dtype=float32))\n",
      " 20) loss: 10.858 Angular Erro 0.016\n",
      "(array([ 0.41838726,  0.30679655,  0.43566433], dtype=float32), array([ 0.35626039,  0.32986334,  0.31387627], dtype=float32))\n",
      " 40) loss: 12.307 Angular Erro 0.017\n",
      "(array([ 0.33651724,  0.37385109,  0.03189814], dtype=float32), array([ 0.5794847 ,  0.29954615,  0.12096915], dtype=float32))\n",
      " 60) loss: 12.279 Angular Erro 0.018\n",
      "(array([ 0.42049792,  0.44023907,  0.23016562], dtype=float32), array([ 0.54043669,  0.31469703,  0.14486627], dtype=float32))\n",
      " 80) loss: 10.999 Angular Erro 0.016\n",
      "(array([ 0.32837659,  0.34073487,  0.19784403], dtype=float32), array([ 0.46314791,  0.33018288,  0.20666923], dtype=float32))\n",
      "100) loss: 10.658 Angular Erro 0.011\n",
      "(array([ 0.44823146,  0.31876656,  0.34424269], dtype=float32), array([ 0.38072774,  0.32882819,  0.29044405], dtype=float32))\n",
      "120) loss: 11.408 Angular Erro 0.015\n",
      "(array([ 0.52990842,  0.50853741,  0.36262161], dtype=float32), array([ 0.36566654,  0.32325688,  0.31107658], dtype=float32))\n",
      "140) loss: 9.376 Angular Erro 0.011\n",
      "(array([ 0.39059979,  0.3330245 ,  0.18864636], dtype=float32), array([ 0.39531553,  0.32807294,  0.27661154], dtype=float32))\n",
      "160) loss: 10.311 Angular Erro 0.011\n",
      "(array([ 0.39827654,  0.2792871 ,  0.32531515], dtype=float32), array([ 0.34148356,  0.32736322,  0.33115324], dtype=float32))\n",
      "180) loss: 11.018 Angular Erro 0.014\n",
      "(array([ 0.20983112,  0.34940568,  0.28356117], dtype=float32), array([ 0.36513466,  0.32839909,  0.30646625], dtype=float32))\n",
      "200) loss: 12.507 Angular Erro 0.017\n",
      "(array([ 0.36702478,  0.19303606,  0.10443708], dtype=float32), array([ 0.33428505,  0.32886565,  0.3368493 ], dtype=float32))\n",
      "220) loss: 11.956 Angular Erro 0.017\n",
      "(array([ 0.35979417,  0.37220657,  0.13079996], dtype=float32), array([ 0.45810506,  0.33309215,  0.20880277], dtype=float32))\n",
      "240) loss: 11.312 Angular Erro 0.019\n",
      "(array([ 0.58663648,  0.14366628,  0.14584224], dtype=float32), array([ 0.53651935,  0.30937582,  0.15410483], dtype=float32))\n",
      "260) loss: 11.568 Angular Erro 0.017\n",
      "(array([ 0.29230544,  0.11242773,  0.17755695], dtype=float32), array([ 0.36684003,  0.32381406,  0.3093459 ], dtype=float32))\n",
      "280) loss: 11.127 Angular Erro 0.016\n",
      "(array([ 0.29799709,  0.23600051,  0.22153944], dtype=float32), array([ 0.36281139,  0.3305738 ,  0.30661482], dtype=float32))\n",
      "300) loss: 10.983 Angular Erro 0.011\n",
      "(array([ 0.43088037,  0.35778153,  0.45125306], dtype=float32), array([ 0.36032599,  0.32904905,  0.31062496], dtype=float32))\n",
      "320) loss: 9.074 Angular Erro 0.009\n",
      "(array([ 0.4392592 ,  0.33431607,  0.29239538], dtype=float32), array([ 0.37182352,  0.32697046,  0.30120602], dtype=float32))\n",
      "340) loss: 9.701 Angular Erro 0.012\n",
      "(array([ 0.40890926,  0.31481516,  0.22420351], dtype=float32), array([ 0.44172487,  0.32263425,  0.23564087], dtype=float32))\n",
      "360) loss: 12.181 Angular Erro 0.018\n",
      "(array([ 0.40185246,  0.37903321,  0.25236574], dtype=float32), array([ 0.40462586,  0.32414383,  0.27123031], dtype=float32))\n",
      "380) loss: 10.774 Angular Erro 0.015\n",
      "(array([ 0.41162708,  0.28303748,  0.55355161], dtype=float32), array([ 0.37700787,  0.34270769,  0.28028443], dtype=float32))\n",
      "400) loss: 11.605 Angular Erro 0.015\n",
      "(array([ 0.42112023,  0.1056608 ,  0.20729503], dtype=float32), array([ 0.57619017,  0.30469081,  0.11911903], dtype=float32))\n",
      "420) loss: 12.324 Angular Erro 0.018\n",
      "(array([ 0.4649542 ,  0.21997346,  0.17411497], dtype=float32), array([ 0.40833786,  0.33829382,  0.25336832], dtype=float32))\n",
      "440) loss: 11.830 Angular Erro 0.016\n",
      "(array([ 0.40317559,  0.22608489,  0.26878971], dtype=float32), array([ 0.37044236,  0.32841545,  0.30114219], dtype=float32))\n",
      "460) loss: 10.382 Angular Erro 0.012\n",
      "(array([ 0.43427771,  0.27955252,  0.27338332], dtype=float32), array([ 0.42756778,  0.33633849,  0.23609373], dtype=float32))\n",
      "480) loss: 9.565 Angular Erro 0.012\n",
      "(array([ 0.34615254,  0.29952952,  0.35220692], dtype=float32), array([ 0.3949548 ,  0.32637888,  0.27866632], dtype=float32))\n",
      "500) loss: 9.204 Angular Erro 0.010\n",
      "(array([ 0.44799232,  0.33284748,  0.23954803], dtype=float32), array([ 0.39272586,  0.32869166,  0.27858251], dtype=float32))\n",
      "520) loss: 12.401 Angular Erro 0.016\n",
      "(array([ 0.4579674 ,  0.37089109,  0.29593134], dtype=float32), array([ 0.36930397,  0.32815787,  0.30253816], dtype=float32))\n",
      "540) loss: 10.390 Angular Erro 0.015\n",
      "(array([ 0.18186228,  0.17959857,  0.32253835], dtype=float32), array([ 0.35471618,  0.33022982,  0.315054  ], dtype=float32))\n",
      "560) loss: 10.637 Angular Erro 0.015\n",
      "(array([ 0.57169324,  0.27567011,  0.27727416], dtype=float32), array([ 0.57847267,  0.30212659,  0.11940075], dtype=float32))\n",
      "580) loss: 11.480 Angular Erro 0.016\n",
      "(array([ 0.40921021,  0.29084387,  0.21797468], dtype=float32), array([ 0.53845364,  0.31578285,  0.1457635 ], dtype=float32))\n",
      "600) loss: 11.199 Angular Erro 0.013\n",
      "(array([ 0.42298651,  0.3885949 ,  0.13809878], dtype=float32), array([ 0.45871216,  0.3272109 ,  0.21407695], dtype=float32))\n",
      "620) loss: 12.168 Angular Erro 0.016\n",
      "(array([ 0.53151745,  0.43666589,  0.11075674], dtype=float32), array([ 0.37087274,  0.32789677,  0.30123049], dtype=float32))\n",
      "640) loss: 9.711 Angular Erro 0.011\n",
      "(array([ 0.27976573,  0.21041678,  0.2699587 ], dtype=float32), array([ 0.36350217,  0.32827264,  0.30822521], dtype=float32))\n",
      "660) loss: 10.103 Angular Erro 0.012\n",
      "(array([ 0.4336237 ,  0.28286135,  0.18160646], dtype=float32), array([ 0.3752552 ,  0.32814917,  0.2965956 ], dtype=float32))\n",
      "680) loss: 11.314 Angular Erro 0.013\n",
      "(array([ 0.2963756 ,  0.27583286,  0.24522732], dtype=float32), array([ 0.34656727,  0.32740134,  0.32603139], dtype=float32))\n",
      "700) loss: 11.431 Angular Erro 0.017\n",
      "(array([ 0.43351907,  0.35622194,  0.36065236], dtype=float32), array([ 0.37092629,  0.32966596,  0.29940775], dtype=float32))\n",
      "720) loss: 11.692 Angular Erro 0.017\n",
      "(array([ 0.30540448,  0.27055356,  0.30803585], dtype=float32), array([ 0.34509468,  0.32746515,  0.32744017], dtype=float32))\n",
      "740) loss: 10.934 Angular Erro 0.015\n",
      "(array([ 0.35055065,  0.43577752,  0.26054007], dtype=float32), array([ 0.47024974,  0.33217493,  0.19757533], dtype=float32))\n",
      "760) loss: 11.366 Angular Erro 0.016\n",
      "(array([ 0.43991616,  0.38922486,  0.31786567], dtype=float32), array([ 0.46723831,  0.32288149,  0.2098802 ], dtype=float32))\n",
      "780) loss: 10.867 Angular Erro 0.014\n",
      "(array([ 0.3895359 ,  0.43411255,  0.38440895], dtype=float32), array([ 0.37651977,  0.32488176,  0.29859847], dtype=float32))\n",
      "800) loss: 9.951 Angular Erro 0.013\n",
      "(array([ 0.34200561,  0.43593693,  0.09162107], dtype=float32), array([ 0.36572489,  0.32848385,  0.30579126], dtype=float32))\n",
      "820) loss: 9.584 Angular Erro 0.011\n",
      "(array([ 0.41040853,  0.5407753 ,  0.21154541], dtype=float32), array([ 0.39309955,  0.32666394,  0.28023651], dtype=float32))\n",
      "840) loss: 9.156 Angular Erro 0.012\n",
      "(array([ 0.38176328,  0.34361169,  0.30809343], dtype=float32), array([ 0.36490229,  0.32648659,  0.30861112], dtype=float32))\n",
      "860) loss: 10.942 Angular Erro 0.012\n",
      "(array([ 0.28458807,  0.33115155,  0.09359661], dtype=float32), array([ 0.52143532,  0.32074758,  0.15781708], dtype=float32))\n",
      "880) loss: 12.049 Angular Erro 0.017\n",
      "(array([ 0.38110009,  0.35055915,  0.3233729 ], dtype=float32), array([ 0.3889572 ,  0.32612583,  0.28491697], dtype=float32))\n",
      "900) loss: 10.482 Angular Erro 0.015\n",
      "(array([ 0.45750338,  0.20695576,  0.07846715], dtype=float32), array([ 0.5719474 ,  0.30856675,  0.11948583], dtype=float32))\n",
      "920) loss: 10.887 Angular Erro 0.016\n",
      "(array([ 0.70860285,  0.40508369,  0.18083836], dtype=float32), array([ 0.57371444,  0.30490887,  0.1213767 ], dtype=float32))\n",
      "940) loss: 10.638 Angular Erro 0.013\n",
      "(array([ 0.26328152,  0.20812482,  0.27669486], dtype=float32), array([ 0.4044787 ,  0.33877671,  0.25674459], dtype=float32))\n",
      "960) loss: 10.184 Angular Erro 0.015\n",
      "(array([ 0.35678065,  0.36069754,  0.28238967], dtype=float32), array([ 0.37442178,  0.3299486 ,  0.29562965], dtype=float32))\n",
      "980) loss: 10.263 Angular Erro 0.013\n",
      "(array([ 0.40939212,  0.25699818,  0.46845704], dtype=float32), array([ 0.35973483,  0.32885069,  0.31141448], dtype=float32))\n",
      "1000) loss: 9.372 Angular Erro 0.010\n",
      "(array([ 0.35863566,  0.36815435,  0.30526063], dtype=float32), array([ 0.39077687,  0.32651344,  0.28270969], dtype=float32))\n",
      "1020) loss: 9.195 Angular Erro 0.010\n",
      "(array([ 0.41448051,  0.2543914 ,  0.37697318], dtype=float32), array([ 0.37214074,  0.32858992,  0.29926935], dtype=float32))\n",
      "1040) loss: 11.068 Angular Erro 0.013\n",
      "(array([ 0.40234047,  0.35124344,  0.46004903], dtype=float32), array([ 0.37803024,  0.3275342 ,  0.29443556], dtype=float32))\n",
      "1060) loss: 11.953 Angular Erro 0.018\n",
      "(array([ 0.30687079,  0.3485285 ,  0.40161645], dtype=float32), array([ 0.35243899,  0.33294645,  0.31461456], dtype=float32))\n",
      "1080) loss: 10.133 Angular Erro 0.012\n",
      "(array([ 0.30052018,  0.2709631 ,  0.18582663], dtype=float32), array([ 0.43706027,  0.3271279 ,  0.23581183], dtype=float32))\n",
      "1100) loss: 12.066 Angular Erro 0.016\n",
      "(array([ 0.61834031,  0.59389293, -0.12914148], dtype=float32), array([ 0.57064563,  0.31072262,  0.11863172], dtype=float32))\n",
      "1120) loss: 11.774 Angular Erro 0.015\n",
      "(array([ 0.51490772,  0.32669088,  0.41576636], dtype=float32), array([ 0.40691587,  0.33555138,  0.25753275], dtype=float32))\n",
      "1140) loss: 11.547 Angular Erro 0.016\n",
      "(array([ 0.23080425,  0.2182304 ,  0.23971371], dtype=float32), array([ 0.36842105,  0.32712775,  0.3044512 ], dtype=float32))\n",
      "1160) loss: 10.214 Angular Erro 0.011\n",
      "(array([ 0.33088142,  0.36681363,  0.22097366], dtype=float32), array([ 0.36310264,  0.32869214,  0.30820519], dtype=float32))\n",
      "1180) loss: 9.922 Angular Erro 0.010\n",
      "(array([ 0.3099331 ,  0.44228581,  0.40870985], dtype=float32), array([ 0.36836049,  0.32744667,  0.30419284], dtype=float32))\n",
      "1200) loss: 10.197 Angular Erro 0.011\n",
      "(array([ 0.30518654,  0.24869165,  0.30045554], dtype=float32), array([ 0.33486447,  0.3276208 ,  0.33751473], dtype=float32))\n",
      "1220) loss: 12.242 Angular Erro 0.016\n",
      "(array([ 0.2375059,  0.3928445,  0.1141295], dtype=float32), array([ 0.34898245,  0.3334451 ,  0.31757244], dtype=float32))\n",
      "1240) loss: 11.096 Angular Erro 0.017\n",
      "(array([ 0.35498548,  0.23252515,  0.37518466], dtype=float32), array([ 0.35166717,  0.32920405,  0.31912878], dtype=float32))\n",
      "1260) loss: 10.215 Angular Erro 0.014\n",
      "(array([ 0.27975351,  0.17696132,  0.31369257], dtype=float32), array([ 0.43916452,  0.33556387,  0.2252716 ], dtype=float32))\n",
      "1280) loss: 12.185 Angular Erro 0.016\n",
      "(array([ 0.51508874,  0.24596213,  0.05454287], dtype=float32), array([ 0.54346979,  0.30994383,  0.14658637], dtype=float32))\n",
      "1300) loss: 11.530 Angular Erro 0.017\n",
      "(array([ 0.38022318,  0.41599056,  0.25265294], dtype=float32), array([ 0.36917257,  0.33037806,  0.30044937], dtype=float32))\n",
      "1320) loss: 10.547 Angular Erro 0.014\n",
      "(array([ 0.44784698,  0.24728537,  0.28274521], dtype=float32), array([ 0.3621681 ,  0.32773024,  0.31010166], dtype=float32))\n",
      "1340) loss: 10.264 Angular Erro 0.015\n",
      "(array([ 0.38619521,  0.20199952,  0.22612613], dtype=float32), array([ 0.38043883,  0.33017513,  0.28938603], dtype=float32))\n",
      "1360) loss: 9.434 Angular Erro 0.009\n",
      "(array([ 0.26536983,  0.43990296,  0.27037078], dtype=float32), array([ 0.36888126,  0.32693928,  0.30417946], dtype=float32))\n",
      "1380) loss: 10.206 Angular Erro 0.010\n",
      "(array([ 0.4967013 ,  0.37206396,  0.24361557], dtype=float32), array([ 0.51415062,  0.31820506,  0.16764435], dtype=float32))\n",
      "1400) loss: 10.958 Angular Erro 0.015\n",
      "(array([ 0.43901584,  0.34788507,  0.35162187], dtype=float32), array([ 0.36482486,  0.32755166,  0.30762348], dtype=float32))\n",
      "1420) loss: 10.953 Angular Erro 0.015\n",
      "(array([ 0.67544389,  0.49389806,  0.05641495], dtype=float32), array([ 0.57648951,  0.30479816,  0.1187123 ], dtype=float32))\n",
      "1440) loss: 11.742 Angular Erro 0.017\n",
      "(array([ 0.52416015,  0.36213788,  0.44420618], dtype=float32), array([ 0.58000517,  0.30304685,  0.11694796], dtype=float32))\n",
      "1460) loss: 11.656 Angular Erro 0.014\n",
      "(array([ 0.52832991,  0.38458183,  0.12120624], dtype=float32), array([ 0.52434283,  0.34173217,  0.13392496], dtype=float32))\n",
      "1480) loss: 10.506 Angular Erro 0.015\n",
      "(array([ 0.26974937,  0.19606552,  0.29094639], dtype=float32), array([ 0.37365022,  0.32853991,  0.29780984], dtype=float32))\n",
      "1500) loss: 9.121 Angular Erro 0.017\n",
      "(array([ 0.2500155 ,  0.20188314,  0.30541807], dtype=float32), array([ 0.37654021,  0.32712159,  0.2963382 ], dtype=float32))\n",
      "1520) loss: 9.817 Angular Erro 0.010\n",
      "(array([ 0.27425468,  0.44895545,  0.42707574], dtype=float32), array([ 0.37632152,  0.33192515,  0.29175332], dtype=float32))\n",
      "1540) loss: 10.194 Angular Erro 0.013\n",
      "(array([ 0.34364387,  0.232398  ,  0.22375412], dtype=float32), array([ 0.42041966,  0.32864416,  0.25093618], dtype=float32))\n",
      "1560) loss: 10.546 Angular Erro 0.013\n",
      "(array([ 0.29494151,  0.28305188,  0.33576933], dtype=float32), array([ 0.38948968,  0.32801026,  0.28250006], dtype=float32))\n",
      "1580) loss: 10.098 Angular Erro 0.015\n",
      "(array([ 0.36923081,  0.29276019,  0.47309437], dtype=float32), array([ 0.34332973,  0.32824141,  0.32842886], dtype=float32))\n",
      "1600) loss: 11.608 Angular Erro 0.014\n",
      "(array([ 0.5351668 ,  0.24119852,  0.37123239], dtype=float32), array([ 0.53199822,  0.31141207,  0.15658975], dtype=float32))\n",
      "1620) loss: 10.303 Angular Erro 0.015\n",
      "(array([ 0.38104266,  0.28195304,  0.15237094], dtype=float32), array([ 0.57153654,  0.30848449,  0.11997898], dtype=float32))\n",
      "1640) loss: 10.083 Angular Erro 0.015\n",
      "(array([ 0.30743858,  0.53938019,  0.5339973 ], dtype=float32), array([ 0.41333863,  0.33153853,  0.25512281], dtype=float32))\n",
      "1660) loss: 10.766 Angular Erro 0.015\n",
      "(array([ 0.3989405 ,  0.39371735,  0.3186906 ], dtype=float32), array([ 0.37379807,  0.32591027,  0.30029166], dtype=float32))\n",
      "1680) loss: 8.711 Angular Erro 0.009\n",
      "(array([ 0.32591042,  0.38134483,  0.22086608], dtype=float32), array([ 0.36185095,  0.32752746,  0.31062162], dtype=float32))\n",
      "1700) loss: 9.426 Angular Erro 0.011\n",
      "(array([ 0.3432107 ,  0.31793407,  0.36933133], dtype=float32), array([ 0.43746203,  0.31906754,  0.24347043], dtype=float32))\n",
      "1720) loss: 10.016 Angular Erro 0.012\n",
      "(array([ 0.40761346,  0.44599849,  0.36966959], dtype=float32), array([ 0.3627634 ,  0.33275899,  0.3044776 ], dtype=float32))\n",
      "1740) loss: 11.846 Angular Erro 0.016\n",
      "(array([ 0.34943065,  0.51909524,  0.43169323], dtype=float32), array([ 0.36583778,  0.34419635,  0.2899659 ], dtype=float32))\n",
      "1760) loss: 11.023 Angular Erro 0.015\n",
      "(array([ 0.38899928,  0.32950109,  0.30515596], dtype=float32), array([ 0.36275631,  0.32830808,  0.30893564], dtype=float32))\n",
      "1780) loss: 13.171 Angular Erro 0.018\n",
      "(array([ 0.14058563,  0.2689153 ,  0.34281296], dtype=float32), array([ 0.48580548,  0.32910061,  0.18509391], dtype=float32))\n",
      "1800) loss: 10.139 Angular Erro 0.014\n",
      "(array([ 0.49738228,  0.18476653,  0.0919576 ], dtype=float32), array([ 0.54215652,  0.31023079,  0.14761271], dtype=float32))\n",
      "1820) loss: 10.633 Angular Erro 0.014\n",
      "(array([ 0.36420891,  0.40818143,  0.23559272], dtype=float32), array([ 0.37809181,  0.32890707,  0.29300112], dtype=float32))\n",
      "1840) loss: 11.168 Angular Erro 0.016\n",
      "(array([ 0.42073709,  0.29448435,  0.19547983], dtype=float32), array([ 0.3612501 ,  0.32729915,  0.31145075], dtype=float32))\n",
      "1860) loss: 9.266 Angular Erro 0.011\n",
      "(array([ 0.45206845,  0.36991191,  0.32599029], dtype=float32), array([ 0.36103028,  0.33093548,  0.30803427], dtype=float32))\n",
      "1880) loss: 10.150 Angular Erro 0.011\n",
      "(array([ 0.52081108,  0.27643046,  0.20200872], dtype=float32), array([ 0.37191197,  0.32610548,  0.30198255], dtype=float32))\n",
      "1900) loss: 9.311 Angular Erro 0.011\n",
      "(array([ 0.49708951,  0.40722212,  0.20899129], dtype=float32), array([ 0.478412  ,  0.32183051,  0.1997575 ], dtype=float32))\n",
      "1920) loss: 11.655 Angular Erro 0.017\n",
      "(array([ 0.35191515,  0.26355588,  0.34569618], dtype=float32), array([ 0.35829672,  0.32862595,  0.3130773 ], dtype=float32))\n",
      "1940) loss: 10.259 Angular Erro 0.015\n",
      "(array([ 0.37898764,  0.23448068,  0.17472765], dtype=float32), array([ 0.57362038,  0.30481625,  0.12156338], dtype=float32))\n",
      "1960) loss: 11.980 Angular Erro 0.016\n",
      "(array([ 0.56296068,  0.36653659, -0.02356816], dtype=float32), array([ 0.57944554,  0.30400807,  0.11654641], dtype=float32))\n",
      "1980) loss: 11.284 Angular Erro 0.015\n",
      "(array([ 0.37619796,  0.1718438 ,  0.12044895], dtype=float32), array([ 0.55369425,  0.31134674,  0.13495904], dtype=float32))\n",
      "1999) loss: 11.987 Angular Erro 0.019\n",
      "(array([ 0.64877212,  0.38225991,  0.25335395], dtype=float32), array([ 0.52615321,  0.32505661,  0.14879017], dtype=float32))\n"
     ]
    }
   ],
   "source": [
    "niters = 2000\n",
    "loss_1, test_loss, acc_1, weights_1 = run_solver(solver, niters,20, 5000)\n",
    "solver.net.save('models/color_constancy/result/gehler_482_3000_iters_cross_validation.caffemodel')\n",
    "np.save('/home/xca64/remote/data/geler_crossvalidation_1.npy', loss_1) "
   ]
  },
  {
   "cell_type": "markdown",
   "metadata": {},
   "source": [
    "#Define Validation Solver and Run"
   ]
  },
  {
   "cell_type": "code",
   "execution_count": 4,
   "metadata": {
    "collapsed": true
   },
   "outputs": [],
   "source": [
    "solver = caffe.SGDSolver('models/color_constancy/gehler_482_solver_validation.prototxt')\n",
    "solver.net.copy_from('models/color_constancy/result/gehler_482_3000_iters_cross_validation.caffemodel')"
   ]
  },
  {
   "cell_type": "code",
   "execution_count": 5,
   "metadata": {
    "collapsed": false
   },
   "outputs": [],
   "source": [
    "validationIters = 100 # 500 #every time forward a batch size image\n",
    "validationSetSize = 161 #number of validation images\n",
    "allAngulareErr = np.array([])\n",
    "allGroundTruth = np.array([0,0,0])\n",
    "allImg = np.zeros([1,3,227,227])\n",
    "for it in range(validationIters):\n",
    "    solver.net.forward()\n",
    "    estimatedIllu = solver.net.blobs['fc8_flickr'].data.copy()  #batch size illumination estimation result\n",
    "    groundtruethIllu = solver.net.blobs['illu'].data.copy()  #batch size illumination estimation result\n",
    "    #print solver.net.blobs['label'].data.copy() \n",
    "    #allGroundTruth = np.vstack((allGroundTruth, estimatedIllu))\n",
    "    #allImg = np.vstack((allImg, solver.net.blobs['data'].data.copy() ))\n",
    "    allAngulareErr = np.hstack((allAngulareErr, np.squeeze( multiangle(estimatedIllu, groundtruethIllu))))\n",
    "    #print np.shape(allAngulareErr)\n",
    "    #allAngulareErr = np.vstack((allAngulareErr, multiangle(estimatedIllu, groundtruethIllu)))"
   ]
  },
  {
   "cell_type": "code",
   "execution_count": null,
   "metadata": {
    "collapsed": false
   },
   "outputs": [],
   "source": [
    "for i in range(len(allAngulareErr)):\n",
    "    for j in range(len(allAngulareErr)):\n",
    "        if allAngulareErr[i] == allAngulareErr[j] and i != j:\n",
    "            print i\n",
    "print \"Done\""
   ]
  },
  {
   "cell_type": "markdown",
   "metadata": {},
   "source": [
    "# Save the result"
   ]
  },
  {
   "cell_type": "code",
   "execution_count": 6,
   "metadata": {
    "collapsed": false
   },
   "outputs": [
    {
     "name": "stdout",
     "output_type": "stream",
     "text": [
      "[67.499611369848722, 61.51206894810953, 63.439201486343343, 1.2077176775796512, 138.38121172419443]\n"
     ]
    }
   ],
   "source": [
    "final_result =[];\n",
    "final_result.append(np.mean(allAngulareErr))\n",
    "final_result.append(np.median(allAngulareErr))\n",
    "final_result.append((np.percentile(allAngulareErr,25)+ np.percentile(allAngulareErr,75) + 2 *np.median(allAngulareErr))/4)\n",
    "final_result.append(np.amin(allAngulareErr))\n",
    "final_result.append(np.percentile(allAngulareErr,95))\n",
    "print final_result\n",
    "# fileName = \"final_result.txt\"\n",
    "# rmCommand = \"rm -rf /home/xca64/remote/data/\" + fileName\n",
    "# #os.system(rmCommand)\n",
    "# f = open('/home/xca64/remote/data/final_result.txt', 'a')\n",
    "# f.write(\"result for geler crossvalidation '1' 1 1 :\\n\")\n",
    "# f.write(str(final_result))\n",
    "# f.write(\"\\n\")\n",
    "# f.close()"
   ]
  },
  {
   "cell_type": "code",
   "execution_count": null,
   "metadata": {
    "collapsed": false
   },
   "outputs": [],
   "source": [
    "print np.mean(allAngulareErr)"
   ]
  },
  {
   "cell_type": "markdown",
   "metadata": {},
   "source": [
    "#Only for debug"
   ]
  },
  {
   "cell_type": "code",
   "execution_count": null,
   "metadata": {
    "collapsed": false
   },
   "outputs": [],
   "source": [
    "solver.net.forward()"
   ]
  },
  {
   "cell_type": "code",
   "execution_count": null,
   "metadata": {
    "collapsed": false
   },
   "outputs": [],
   "source": [
    "img = solver.net.blobs['data'].data.copy()"
   ]
  },
  {
   "cell_type": "code",
   "execution_count": null,
   "metadata": {
    "collapsed": false
   },
   "outputs": [],
   "source": [
    "allImg = np.zeros([1,3,227,227])"
   ]
  },
  {
   "cell_type": "code",
   "execution_count": null,
   "metadata": {
    "collapsed": false
   },
   "outputs": [],
   "source": [
    "image = allImg[162,...]\n",
    "plt.imshow(deprocess_net_image(image))"
   ]
  },
  {
   "cell_type": "code",
   "execution_count": null,
   "metadata": {
    "collapsed": true
   },
   "outputs": [],
   "source": [
    "# Helper function for deprocessing preprocessed images, e.g., for display.\n",
    "def deprocess_net_image(image):\n",
    "    image = image.copy()              # don't modify destructively\n",
    "    image = image[::-1]               # BGR -> RGB\n",
    "    image = image.transpose(1, 2, 0)  # CHW -> HWC\n",
    "    image += [123, 117, 104]          # (approximately) undo mean subtraction\n",
    "\n",
    "    # clamp values in [0, 255]\n",
    "    image[image < 0], image[image > 255] = 0, 255\n",
    "\n",
    "    # round and cast from float32 to uint8\n",
    "    image = np.round(image)\n",
    "    image = np.require(image, dtype=np.uint8)\n",
    "\n",
    "    return image"
   ]
  },
  {
   "cell_type": "code",
   "execution_count": null,
   "metadata": {
    "collapsed": true
   },
   "outputs": [],
   "source": []
  }
 ],
 "metadata": {
  "kernelspec": {
   "display_name": "Python 2",
   "language": "python",
   "name": "python2"
  },
  "language_info": {
   "codemirror_mode": {
    "name": "ipython",
    "version": 2
   },
   "file_extension": ".py",
   "mimetype": "text/x-python",
   "name": "python",
   "nbconvert_exporter": "python",
   "pygments_lexer": "ipython2",
   "version": "2.7.10"
  }
 },
 "nbformat": 4,
 "nbformat_minor": 0
}
